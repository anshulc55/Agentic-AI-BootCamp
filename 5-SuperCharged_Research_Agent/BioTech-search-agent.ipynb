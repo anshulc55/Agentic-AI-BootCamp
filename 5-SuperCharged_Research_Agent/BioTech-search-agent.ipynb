{
 "cells": [
  {
   "cell_type": "markdown",
   "id": "563b8738",
   "metadata": {},
   "source": [
    "# Building a Supercharged Web Agent\n",
    "We’ll be building a “Supercharged Research Agent” that takes a user prompt, searches the web, and returns a clean, structured summary for human use."
   ]
  },
  {
   "cell_type": "code",
   "execution_count": 7,
   "id": "67b193d3",
   "metadata": {},
   "outputs": [],
   "source": [
    "# Import Dependency Libs\n",
    "from dotenv import load_dotenv\n",
    "from agents import Agent, WebSearchTool, trace, Runner\n",
    "from agents.model_settings import ModelSettings\n",
    "from IPython.display import display, Markdown\n",
    "\n",
    "\n",
    "load_dotenv(override=True)\n",
    "\n",
    "# Agent Instructions: Clear and Direct\n",
    "RESEARCH_PROMPT = (\n",
    "    \"You are a highly efficient Bitech research assistant. \"\n",
    "    \"Given a topic, perform a thorough web search and return a well-organized, factual Lecture summary \"\n",
    "    \"in under 1000 words. Summarize clearly, capture core insights, and omit fluff. \"\n",
    "    \"No personal opinions or commentary. This is for someone writing a Lecture to deliver.\"\n",
    ")\n",
    "\n",
    "# Initialize Web Search Agent\n",
    "web_search_agent = Agent(\n",
    "    name=\"Web Research Agent\",\n",
    "    instructions=RESEARCH_PROMPT,\n",
    "    tools=[WebSearchTool(search_context_size='low')],\n",
    "    model=\"gpt-4o-mini\",\n",
    "    model_settings=ModelSettings(tool_choice=\"required\")\n",
    ")"
   ]
  },
  {
   "cell_type": "markdown",
   "id": "71b9fc68",
   "metadata": {},
   "source": [
    "## Planning Web Searches with Structured AI Output"
   ]
  },
  {
   "cell_type": "code",
   "execution_count": 8,
   "id": "6daef647",
   "metadata": {},
   "outputs": [],
   "source": [
    "from pydantic import BaseModel\n",
    "\n",
    "# Define structured output for each search item\n",
    "class SearchTask(BaseModel):\n",
    "    reason: str  # Why this particular search matters\n",
    "    query: str   # The actual web search string\n",
    "\n",
    "# The full output schema from the planner\n",
    "class SearchPlan(BaseModel):\n",
    "    searches: list[SearchTask]  # A list of search instructions\n",
    "\n",
    "# How many searches should the planner generate?\n",
    "NUMBER_OF_SEARCHES=3\n",
    "\n",
    "# Instructions: Well-formed prompt for planning\n",
    "PLANNER_PROMPT = (\n",
    "    f\"You are a BioTech Lecture planner. Given a user query, identify {NUMBER_OF_SEARCHES} distinct search terms \"\n",
    "    \"that would help answer it comprehensively. For each search, include a short reason explaining its relevance.\"\n",
    ")\n",
    "\n",
    "# Agent to generate the structured search plan\n",
    "search_planner_agent = Agent(\n",
    "    name=\"SearchPlannerAgent\",\n",
    "    instructions=PLANNER_PROMPT,\n",
    "    model=\"gpt-4o-mini\",\n",
    "    output_type=SearchPlan  # Agent is expected to output a Pydantic structure\n",
    ")\n"
   ]
  },
  {
   "cell_type": "markdown",
   "id": "9c79fbf8",
   "metadata": {},
   "source": [
    "## Designing End-to-End Research Pipelines"
   ]
  },
  {
   "cell_type": "code",
   "execution_count": 9,
   "id": "f38d64d6",
   "metadata": {},
   "outputs": [],
   "source": [
    "## This agent takes results from all search tasks and writes a long-form, structured markdown report.\n",
    "\n",
    "class ReportData(BaseModel):\n",
    "    short_summary: str\n",
    "    \"\"\"A short 2-3 sentence summary of the findings.\"\"\"\n",
    "\n",
    "    markdown_report: str\n",
    "    \"\"\"The final Lecture in Word file format.\"\"\"\n",
    "\n",
    "    follow_up_questions: list[str]\n",
    "    \"\"\"Suggested topics to research further\"\"\"\n",
    "\n",
    "# Report Generator Agent\n",
    "INSTRUCTIONS = (\n",
    "    \"You are a senior Lecturer tasked with writing a cohesive report for a given query. \"\n",
    "    \"You will be provided with the original query, and some initial research done by a Lecturer assistant.\\n\"\n",
    "    \"You should first come up with an outline for the Lecturer that describes the structure, details, examples and \"\n",
    "    \"flow charts and images in the Lecturer. Then, generate the Lecturer and return that as your final output.\\n\"\n",
    "    \"The final output should be in Wordfile format, and it should be lengthy and detailed. Aim \"\n",
    "    \"for 3–4 pages of content.\"\n",
    ")\n",
    "\n",
    "writer_agent = Agent(\n",
    "    name=\"WriterAgent\",\n",
    "    instructions=INSTRUCTIONS,\n",
    "    model=\"gpt-4o-mini\",\n",
    "    output_type=ReportData\n",
    ")"
   ]
  },
  {
   "cell_type": "markdown",
   "id": "db7d1c08",
   "metadata": {},
   "source": [
    "## Async Pipeline Functions"
   ]
  },
  {
   "cell_type": "code",
   "execution_count": 10,
   "id": "a6caace4",
   "metadata": {},
   "outputs": [],
   "source": [
    "## First generate a reasoned plan before searching.\n",
    "import asyncio\n",
    "async def search_planner(query: str):\n",
    "    \"\"\"Use planner_agent to generate a structured list of web searches for a given research query.\"\"\"\n",
    "    print(\"Planning for searches...\")\n",
    "    result = await Runner.run(search_planner_agent, query)\n",
    "    print(f\"Will perform {len(result.final_output.searches)} searches\")\n",
    "    return result.final_output\n",
    "\n",
    "## Function to Perform WebSearch : OpenAI WebSearch Tool\n",
    "async def web_search(search_task: SearchTask):\n",
    "    \"\"\"Run a single web search using the search_agent for a given query and reason.\"\"\"\n",
    "    input = f\"Search term: {search_task.query}\\nReason for searching: {search_task.reason}\"\n",
    "    result = await Runner.run(web_search_agent, input)\n",
    "    return result.final_output\n",
    "\n",
    "## Running web_search in parallel\n",
    "async def perform_parallel_searches(search_plan: SearchPlan):\n",
    "    \"\"\"Perform web searches in parallel using asyncio to speed up data collection.\"\"\"\n",
    "    print(\"Perform Parallel Searching...\")\n",
    "    tasks = [asyncio.create_task(web_search(task)) for task in search_plan.searches]\n",
    "    results = await asyncio.gather(*tasks)\n",
    "    print(\"Finished searching !!!\")\n",
    "    return results"
   ]
  },
  {
   "cell_type": "code",
   "execution_count": 11,
   "id": "f615908a",
   "metadata": {},
   "outputs": [],
   "source": [
    "## Generate Report from Search Results\n",
    "async def generate_detailed_report(user_query: str, search_summaries: list[str]):\n",
    "    \"\"\"Use the WriterAgent to compile a structured, markdown-based research report.\"\"\"\n",
    "    print(\"Thinking deeply about the report...\")\n",
    "    prompt_input = f\"Original query: {user_query}\\nSummarized search results: {search_summaries}\"\n",
    "    result = await Runner.run(writer_agent, prompt_input)\n",
    "    print(\"Finished writing the report!\")\n",
    "    return result.final_output\n"
   ]
  },
  {
   "cell_type": "code",
   "execution_count": 12,
   "id": "9c0da4cf",
   "metadata": {},
   "outputs": [
    {
     "name": "stdout",
     "output_type": "stream",
     "text": [
      "Planning for searches...\n",
      "Will perform 3 searches\n",
      "Perform Parallel Searching...\n",
      "Finished searching !!!\n",
      "Thinking deeply about the report...\n",
      "Finished writing the report!\n",
      "short_summary='The report clearly delineates the differences between exergonic and endergonic processes, detailing their roles in chemical thermodynamics, examples from biological systems, and their importance in metabolic pathways.' markdown_report='# Endergonic vs Exergonic Processes\\n\\n## Outline\\n1. **Introduction**  \\n   - Definition of thermodynamics in chemical reactions\\n   - Importance of understanding energy changes\\n\\n2. **Exergonic Reactions**  \\n   1. Definition and characteristics  \\n   2. Equation relating Gibbs free energy  \\n   3. Examples  \\n      - Cellular Respiration  \\n      - Combustion of Glucose  \\n      - Hydrolysis of ATP  \\n      - Neutralization Reactions  \\n   4. Importance in Biological Systems  \\n      - Energy production and metabolic pathways  \\n\\n3. **Endergonic Reactions**  \\n   1. Definition and characteristics  \\n   2. Equation relating Gibbs free energy  \\n   3. Examples  \\n      - Photosynthesis  \\n      - Protein Synthesis  \\n      - DNA and RNA Synthesis  \\n   4. Importance in Biological Systems  \\n      - Role in synthesis of complex molecules  \\n\\n4. **Energy Coupling**  \\n   - Description of energy coupling in biological systems  \\n   - Interplay of exergonic and endergonic reactions  \\n\\n5. **Conclusion**  \\n   - Summary of key points  \\n   - Importance of understanding these processes in biological and chemical contexts  \\n\\n---\\n\\n## Detailed Report\\n\\n### Introduction\\nChemical thermodynamics categorizes reactions based on their energy changes into two primary types: **exergonic** and **endergonic** processes. These concepts are essential for understanding how energy is transformed and utilized in various chemical and biological reactions, playing a central role in metabolism and energy management.\\n\\n### Exergonic Reactions\\nExergonic reactions are processes characterized by a release of energy, typically in the form of heat or work. In thermodynamic terms, they exhibit a negative change in Gibbs free energy (ΔG < 0), indicating that the system is moving toward a more stable state.\\n\\n#### Key Characteristics\\n- **Energy Release:** The spontaneity of exergonic reactions allows them to proceed without the input of external energy after overcoming the initial activation barrier.\\n- **Negative ΔG:** This signifies that the products have lower free energy than the reactants (ΔG < 0).\\n\\n#### Example Processes\\n1. **Cellular Respiration**  \\n   - Glucose (C₆H₁₂O₆) is broken down into carbon dioxide and water, producing energy stored in ATP.  \\n   - Reaction: C₆H₁₂O₆ + 6O₂ → 6CO₂ + 6H₂O  \\n   - Significance: Fuels cellular functions and metabolic pathways.\\n   - ![Cellular Respiration Diagram](https://example.com/cellular_respiration)\\n\\n2. **Combustion of Glucose**  \\n   - An exergonic reaction that releases energy.  \\n   - ΔG: Approximately -2,870 kJ/mol under standard conditions.\\n   ![Combustion Reaction](https://example.com/combustion)\\n\\n3. **Hydrolysis of ATP**  \\n   - Reaction: ATP + H₂O → ADP + Pi  \\n   - ΔG: Approximately -30.5 kJ/mol under standard conditions.  \\n   - Provides essential energy for cellular activities.\\n   - ![ATP Hydrolysis](https://example.com/atp_hydrolysis)\\n\\n4. **Neutralization Reactions**  \\n   - Example: HCl + NaOH → NaCl + H₂O  \\n   - Releases heat energy, emphasizing its exergonic nature.\\n   ![Neutralization Reaction](https://example.com/neutralization)\\n\\n#### Importance in Biological Systems\\nExergonic reactions are pivotal for generating ATP, the primary energy currency of the cell. They drive various metabolic processes, thereby facilitating essential biological functions. \\n\\n### Endergonic Reactions\\nOn the contrary, endergonic reactions are processes that require an input of energy, displaying a positive change in Gibbs free energy (ΔG > 0). These reactions are non-spontaneous and generally involve the synthesis of more complex molecules from simpler precursors.\\n\\n#### Key Characteristics\\n- **Energy Input:** These reactions necessitate an energy source to proceed, which often comes from exergonic reactions.\\n- **Positive ΔG:** This indicates that the products have higher free energy than reactants (ΔG > 0).\\n\\n#### Example Processes\\n1. **Photosynthesis**  \\n   - Light energy is used to convert carbon dioxide and water into glucose and oxygen.  \\n   - This process is fundamental for producing organic compounds.  \\n   ![Photosynthesis](https://example.com/photosynthesis)\\n\\n2. **Protein Synthesis**  \\n   - Formation of proteins from amino acids involves energy input in the form of ATP driving peptide bond formation.  \\n   ![Protein Synthesis](https://example.com/protein_synthesis)\\n\\n3. **DNA and RNA Synthesis**  \\n   - Relies on ATP hydrolysis for energy to synthesize nucleic acids from nucleotides.  \\n   ![DNA Replication](https://example.com/dna_replication)\\n\\n4. **Active Transport Mechanisms**  \\n   - Example: The Na⁺/K⁺ pump needs energy to transport ions against their concentration gradient.\\n   ![Active Transport](https://example.com/active_transport)\\n\\n#### Importance in Biological Systems\\nEndergonic reactions are essential for growth, repair, and maintenance of cellular structures, highlighting the need for energy input in various biological processes. \\n\\n### Energy Coupling\\nIn biological systems, endergonic reactions are often directly coupled with exergonic reactions. The energy released from one process can drive another that requires energy, enabling efficient energy management within cells. For instance, ATP hydrolysis provides the necessary energy to drive many endergonic reactions, ensuring that cellular activities can proceed smoothly.\\n\\n### Conclusion\\nIn summary, the distinctions between exergonic and endergonic reactions highlight their vital roles in both chemical thermodynamics and biological contexts. Understanding these processes is fundamental for grasping how energy transformations underpin metabolic functions, maintaining the intricate balance necessary for life. Through the coupling of these reactions, organisms efficiently manage energy to achieve growth, reproduction, and homeostasis. \\n\\n---' follow_up_questions=['What are the key differences in the mechanisms by which exergonic and endergonic reactions occur?', 'Can you explain more about the role of ATP in coupling these reactions?', 'How do exergonic and endergonic processes relate to everyday phenomena outside of biological systems?']\n",
      "🎉 Research workflow completed! Check your inbox.\n"
     ]
    }
   ],
   "source": [
    "# Final Pipeline Execution\n",
    "\n",
    "# Research Query\n",
    "research_query = \"Endergonic vs exergonic processes with examples\"\n",
    "\n",
    "\n",
    "\n",
    "# Step 1: Plan web searches\n",
    "search_plan = await search_planner(research_query)\n",
    "\n",
    "# Step 2: Perform all searches asynchronously\n",
    "search_results = await perform_parallel_searches(search_plan)\n",
    "\n",
    "# Step 3: Generate structured markdown report\n",
    "final_report = await generate_detailed_report(research_query, search_results)\n",
    "print(final_report)\n",
    "\n",
    "\n",
    "print(\"🎉 Research workflow completed! Check your inbox.\")"
   ]
  },
  {
   "cell_type": "markdown",
   "id": "e13802e1",
   "metadata": {},
   "source": [
    "<table style=\"margin: 0; text-align: left; width:100%\"> <tr> <td> <h2 style=\"color:#00cc00;\">🌟 Congratulations!</h2> <span style=\"color:#00cc00;\"> You’ve just designed, built, and executed a complete **Autonomous AI Research Pipeline**.<br/><br/> You didn’t just write prompts—you orchestrated agents, async tasks, and output delivery with production-level patterns.<br/><br/> 🧠 You’ve upskilled.<br/> 💼 You’ve unlocked automation possibilities.<br/> 🛠️ You’ve created reusable agent components.<br/><br/> If you're enjoying this journey, I’d love your support:<br/> 👉 Rate the course on Udemy if you haven’t already<br/> 👉 <a href=\"https://www.linkedin.com/in/anshulchauhan/\">Connect with me on LinkedIn</a><br/></span> </td> </tr> </table>"
   ]
  }
 ],
 "metadata": {
  "kernelspec": {
   "display_name": "Agentic_AI_BootCamp (3.12.4)",
   "language": "python",
   "name": "python3"
  },
  "language_info": {
   "codemirror_mode": {
    "name": "ipython",
    "version": 3
   },
   "file_extension": ".py",
   "mimetype": "text/x-python",
   "name": "python",
   "nbconvert_exporter": "python",
   "pygments_lexer": "ipython3",
   "version": "3.12.4"
  }
 },
 "nbformat": 4,
 "nbformat_minor": 5
}
