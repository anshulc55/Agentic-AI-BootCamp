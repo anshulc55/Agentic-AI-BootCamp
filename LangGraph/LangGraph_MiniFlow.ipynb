{
 "cells": [
  {
   "cell_type": "markdown",
   "id": "4d0b0158",
   "metadata": {},
   "source": [
    "## Step 1: Setup – Imports & State"
   ]
  },
  {
   "cell_type": "code",
   "execution_count": 9,
   "id": "bff31257",
   "metadata": {},
   "outputs": [],
   "source": [
    "from langgraph.graph import StateGraph, START, END\n",
    "from pydantic import BaseModel\n",
    "from typing import Annotated\n",
    "from langgraph.graph.message import add_messages\n",
    "import random\n",
    "\n",
    "## State object: where all information lives\n",
    "class State(BaseModel):\n",
    "    messages: Annotated[list, add_messages]  # Reducer appends new messages"
   ]
  },
  {
   "cell_type": "markdown",
   "id": "ba5fa5be",
   "metadata": {},
   "source": [
    "## Step 2: Define Nodes\n",
    "#### A Node = Function that takes State and returns State."
   ]
  },
  {
   "cell_type": "code",
   "execution_count": 10,
   "id": "aabac032",
   "metadata": {},
   "outputs": [],
   "source": [
    "# Node 1\n",
    "def greeter(state: State) -> State:\n",
    "    msg = f\"Hello! I am your graph assistant.\"\n",
    "    return {\"messages\": [msg]}\n",
    "\n",
    "# Node 2\n",
    "def random_fact(state: State) -> State:\n",
    "    facts = [\n",
    "        \"Bananas are berries, but strawberries are not.\",\n",
    "        \"Octopuses have three hearts.\",\n",
    "        \"Penguins propose with pebbles.\",\n",
    "        \"Cabbages have more chromosomes than humans!\"\n",
    "    ]\n",
    "    fact = random.choice(facts)\n",
    "    msg = f\"Did you know? {fact}\"\n",
    "    return {\"messages\": [msg]}\n",
    "\n",
    "# Node 3\n",
    "def farewell(state: State) -> State:\n",
    "    msg = f\"Goodbye! Graph run complete.\"\n",
    "    return {\"messages\": [msg]}"
   ]
  },
  {
   "cell_type": "markdown",
   "id": "6d254291",
   "metadata": {},
   "source": [
    "## Step 3: Build the Graph (Nodes + Edges)"
   ]
  },
  {
   "cell_type": "code",
   "execution_count": 20,
   "id": "172d2cb7",
   "metadata": {},
   "outputs": [
    {
     "data": {
      "text/plain": [
       "<langgraph.graph.state.StateGraph at 0x11457ade0>"
      ]
     },
     "execution_count": 20,
     "metadata": {},
     "output_type": "execute_result"
    }
   ],
   "source": [
    "# Build the graph\n",
    "graph_builder = StateGraph(State)\n",
    "\n",
    "# Add nodes\n",
    "graph_builder.add_node(\"greeter\", greeter)\n",
    "graph_builder.add_node(\"random_fact\", random_fact)\n",
    "graph_builder.add_node(\"farewell\", farewell)\n",
    "\n",
    "# Connect nodes with edges\n",
    "graph_builder.add_edge(START, \"greeter\")\n",
    "graph_builder.add_edge(\"greeter\", \"random_fact\")\n",
    "graph_builder.add_edge(\"random_fact\", \"farewell\")\n",
    "graph_builder.add_edge(\"farewell\", END)"
   ]
  },
  {
   "cell_type": "markdown",
   "id": "3cf037ae",
   "metadata": {},
   "source": [
    "## Step 4: Compile & Run"
   ]
  },
  {
   "cell_type": "code",
   "execution_count": 21,
   "id": "069092b6",
   "metadata": {},
   "outputs": [
    {
     "name": "stdout",
     "output_type": "stream",
     "text": [
      "=== Final Output ===\n",
      "content='Hello! I am your graph assistant.' additional_kwargs={} response_metadata={} id='ff69f658-1fa5-4b0d-a07c-3e923c41282f'\n",
      "content='Did you know? Cabbages have more chromosomes than humans!' additional_kwargs={} response_metadata={} id='2b45827b-eef4-4365-84c8-16f9fd2e3a30'\n",
      "content='Goodbye! Graph run complete.' additional_kwargs={} response_metadata={} id='17ff06f2-5a95-4eff-98d0-06538795922f'\n"
     ]
    }
   ],
   "source": [
    "# Compile the graph\n",
    "graph = graph_builder.compile()\n",
    "\n",
    "# Run with empty state\n",
    "initial_state = {\"messages\": []}\n",
    "final_state = graph.invoke(initial_state)\n",
    "\n",
    "print(\"=== Final Output ===\")\n",
    "for m in final_state[\"messages\"]:\n",
    "    print(m)\n"
   ]
  },
  {
   "cell_type": "markdown",
   "id": "68a5275a",
   "metadata": {},
   "source": [
    "### Display the Graph Layout"
   ]
  },
  {
   "cell_type": "code",
   "execution_count": 22,
   "id": "f7ec2c90",
   "metadata": {},
   "outputs": [
    {
     "data": {
      "image/png": "[encoded data removed]",
      "text/plain": [
       "<IPython.core.display.Image object>"
      ]
     },
     "metadata": {},
     "output_type": "display_data"
    }
   ],
   "source": [
    "# Visualize graph (requires graphviz)\n",
    "from IPython.display import Image\n",
    "\n",
    "display(Image(graph.get_graph().draw_mermaid_png()))"
   ]
  }
 ],
 "metadata": {
  "kernelspec": {
   "display_name": "Agentic_AI_BootCamp (3.12.4)",
   "language": "python",
   "name": "python3"
  },
  "language_info": {
   "codemirror_mode": {
    "name": "ipython",
    "version": 3
   },
   "file_extension": ".py",
   "mimetype": "text/x-python",
   "name": "python",
   "nbconvert_exporter": "python",
   "pygments_lexer": "ipython3",
   "version": "3.12.4"
  }
 },
 "nbformat": 4,
 "nbformat_minor": 5
}
