{
 "cells": [
  {
   "cell_type": "markdown",
   "id": "e9e94f0d",
   "metadata": {},
   "source": [
    "# Multi-Model Integration: Using Gemini, DeepSeek & Groq with OpenAI Agents"
   ]
  },
  {
   "cell_type": "code",
   "execution_count": 29,
   "id": "57ba8479",
   "metadata": {},
   "outputs": [
    {
     "name": "stdout",
     "output_type": "stream",
     "text": [
      "Openai API Key loaded: sk-proj-oR...\n",
      "Google API Key loaded: AIzaSyAd8c...\n",
      "Deepseek API Key loaded: sk-ba892fd...\n",
      "Groq API Key loaded: gsk_Le5WL7...\n"
     ]
    }
   ],
   "source": [
    "# Libraries and Imports\n",
    "from dotenv import load_dotenv\n",
    "from agents import Agent, Runner, trace, function_tool, OpenAIChatCompletionsModel\n",
    "from openai.types.responses import ResponseTextDeltaEvent\n",
    "from openai import AsyncOpenAI\n",
    "import sendgrid\n",
    "import os\n",
    "from sendgrid.helpers.mail import Email, To, Content, Mail\n",
    "\n",
    "# Load environment variables\n",
    "load_dotenv(override=True)\n",
    "\n",
    "# Load API Keys and Verify\n",
    "api_keys = {\n",
    "    \"openai\": os.getenv('OPENAI_API_KEY'),\n",
    "    \"google\": os.getenv('GEMINI_API_KEY'),\n",
    "    \"deepseek\": os.getenv('DEEPSEEK_API_KEY'),\n",
    "    \"groq\": os.getenv('GROQ_API_KEY')\n",
    "}\n",
    "\n",
    "for provider, key in api_keys.items():\n",
    "    if key:\n",
    "        print(f\"{provider.title()} API Key loaded: {key[:10]}...\")\n",
    "    else:\n",
    "        print(f\"{provider.title()} API Key missing.\")"
   ]
  },
  {
   "cell_type": "markdown",
   "id": "3039676c",
   "metadata": {},
   "source": [
    "### Define Sales Agent Personas"
   ]
  },
  {
   "cell_type": "code",
   "execution_count": 30,
   "id": "433ed5d5",
   "metadata": {},
   "outputs": [],
   "source": [
    "# Personalized agent instructions\n",
    "agent_styles = {\n",
    "    \"direct\": \"You write serious, clear, and professional sales emails for SOC2 compliance solutions.\",\n",
    "    \"witty\": \"You write humorous, attention-grabbing emails for SOC2 compliance tools.\",\n",
    "    \"concise\": \"You write minimal, punchy cold emails ideal for busy executives.\"\n",
    "}"
   ]
  },
  {
   "cell_type": "markdown",
   "id": "1c805d20",
   "metadata": {},
   "source": [
    "### Initialize Multi-Model Clients"
   ]
  },
  {
   "cell_type": "code",
   "execution_count": 31,
   "id": "67efc0ad",
   "metadata": {},
   "outputs": [],
   "source": [
    "# Base URLs for LLMs\n",
    "MODEL_BASE_URLS = {\n",
    "    \"gemini\": \"https://generativelanguage.googleapis.com/v1beta/openai/\",\n",
    "    \"deepseek\": \"https://api.deepseek.com/v1\",\n",
    "    \"groq\": \"https://api.groq.com/openai/v1\"\n",
    "}\n",
    "\n",
    "# Create Agent Clients\n",
    "model_clients = {\n",
    "    \"gemini\": AsyncOpenAI(base_url=MODEL_BASE_URLS[\"gemini\"], api_key=api_keys[\"google\"]),\n",
    "    \"deepseek\": AsyncOpenAI(base_url=MODEL_BASE_URLS[\"deepseek\"], api_key=api_keys[\"deepseek\"]),\n",
    "    \"groq\": AsyncOpenAI(base_url=MODEL_BASE_URLS[\"groq\"], api_key=api_keys[\"groq\"])\n",
    "}"
   ]
  },
  {
   "cell_type": "markdown",
   "id": "a1d0830b",
   "metadata": {},
   "source": [
    "### Build Model-Specific Agents"
   ]
  },
  {
   "cell_type": "code",
   "execution_count": 32,
   "id": "d34e8147",
   "metadata": {},
   "outputs": [
    {
     "data": {
      "text/plain": [
       "[FunctionTool(name='gemini_agent_tool', description='Generate a cold outreach email for a SaaS compliance product.', params_json_schema={'properties': {'input': {'title': 'Input', 'type': 'string'}}, 'required': ['input'], 'title': 'gemini_agent_tool_args', 'type': 'object', 'additionalProperties': False}, on_invoke_tool=<function function_tool.<locals>._create_function_tool.<locals>._on_invoke_tool at 0x10f9ae700>, strict_json_schema=True),\n",
       " FunctionTool(name='deepseek_agent_tool', description='Generate a cold outreach email for a SaaS compliance product.', params_json_schema={'properties': {'input': {'title': 'Input', 'type': 'string'}}, 'required': ['input'], 'title': 'deepseek_agent_tool_args', 'type': 'object', 'additionalProperties': False}, on_invoke_tool=<function function_tool.<locals>._create_function_tool.<locals>._on_invoke_tool at 0x10f8e7ec0>, strict_json_schema=True),\n",
       " FunctionTool(name='groq_agent_tool', description='Generate a cold outreach email for a SaaS compliance product.', params_json_schema={'properties': {'input': {'title': 'Input', 'type': 'string'}}, 'required': ['input'], 'title': 'groq_agent_tool_args', 'type': 'object', 'additionalProperties': False}, on_invoke_tool=<function function_tool.<locals>._create_function_tool.<locals>._on_invoke_tool at 0x10f9add00>, strict_json_schema=True)]"
      ]
     },
     "execution_count": 32,
     "metadata": {},
     "output_type": "execute_result"
    }
   ],
   "source": [
    "# Create the Agents of LLMs\n",
    "agent_models = {\n",
    "    \"gemini\": OpenAIChatCompletionsModel(\"gemini-2.0-flash\", model_clients[\"gemini\"]),\n",
    "    \"deepseek\": OpenAIChatCompletionsModel(\"deepseek-chat\", model_clients[\"deepseek\"]),\n",
    "    \"llama3\": OpenAIChatCompletionsModel(\"llama-3.3-70b-versatile\", model_clients[\"groq\"]),\n",
    "}\n",
    "\n",
    "# Sales Agents - Multi LLM Model Based\n",
    "sales_agents = [\n",
    "    Agent(name=\"Gemini Agent\", instructions=agent_styles[\"witty\"], model=agent_models[\"gemini\"]),\n",
    "    Agent(name=\"DeepSeek Agent\", instructions=agent_styles[\"direct\"], model=agent_models[\"deepseek\"]),\n",
    "    Agent(name=\"Groq Agent\", instructions=agent_styles[\"concise\"], model=agent_models[\"llama3\"])\n",
    "]\n",
    "\n",
    "# Convert agents to tools\n",
    "email_task_description = \"Generate a cold outreach email for a SaaS compliance product.\"\n",
    "agent_tools = [\n",
    "    agent.as_tool(tool_name=f\"{agent.name.lower().replace(' ', '_')}_tool\", tool_description=email_task_description)\n",
    "    for agent in sales_agents\n",
    "]\n",
    "\n",
    "agent_tools"
   ]
  },
  {
   "cell_type": "markdown",
   "id": "e453c9f9",
   "metadata": {},
   "source": [
    "## Email Formatting & Sending Utilities"
   ]
  },
  {
   "cell_type": "markdown",
   "id": "934ba3fe",
   "metadata": {},
   "source": [
    "#### Tool: SendGrid Email Sender"
   ]
  },
  {
   "cell_type": "code",
   "execution_count": 33,
   "id": "2f9ad61f",
   "metadata": {},
   "outputs": [],
   "source": [
    "# Function Tool to Send Email via SendGrid\n",
    "@function_tool\n",
    "def send_email(subject: str, html_body: str):\n",
    "     \"\"\"Send an HTML email with subject and body to the recipient list.\"\"\"\n",
    "     sg = sendgrid.SendGridAPIClient(api_key=os.environ.get(\"SENDGRID_API_KEY\"))\n",
    "     sender = Email(\"anshulc55@gmail.com\")\n",
    "     recipient = To(\"anshulc55@icloud.com\")\n",
    "     content = Content(\"text/html\", html_body)\n",
    "     email = Mail(sender, recipient, subject, content).get()\n",
    "     response = sg.client.mail.send.post(request_body=email)\n",
    "     return {\"status\": \"Success\" , \"code\": response.status_code}"
   ]
  },
  {
   "cell_type": "markdown",
   "id": "5fe06b69",
   "metadata": {},
   "source": [
    "#### Utility Agents"
   ]
  },
  {
   "cell_type": "code",
   "execution_count": 34,
   "id": "c5a8da8f",
   "metadata": {},
   "outputs": [],
   "source": [
    "# Subject Line Generator\n",
    "subject_agent = Agent(\n",
    "    name=\"Subject Line Creator\",\n",
    "    instructions=\"Write catchy subject lines for cold outreach emails.\",\n",
    "    model=\"gpt-4o-mini\"\n",
    ")\n",
    "subject_tool = subject_agent.as_tool(\"subject_writer\", \"Generate a catchy email subject line\")\n",
    "\n",
    "# HTML Formatter\n",
    "html_agent = Agent(\n",
    "    name=\"HTML Formatter\",\n",
    "    instructions=\"Convert plain text emails (with markdown) to clean HTML layouts.\",\n",
    "    model=\"gpt-4o-mini\"\n",
    ")\n",
    "html_tool = html_agent.as_tool(\"html_converter\", \"Convert plain text email to HTML\")"
   ]
  },
  {
   "cell_type": "markdown",
   "id": "25bea3c3",
   "metadata": {},
   "source": [
    "### Email Orchestration Agent"
   ]
  },
  {
   "cell_type": "code",
   "execution_count": 35,
   "id": "18924a96",
   "metadata": {},
   "outputs": [],
   "source": [
    "email_utilities = [subject_tool, html_tool, send_email]\n",
    "\n",
    "email_formatter = Agent(\n",
    "    name=\"Email Orchestrator\",\n",
    "    instructions=\"Take a plain email body, generate a subject, convert to HTML, and send it.\",\n",
    "    tools=email_utilities,\n",
    "    model=\"gpt-4o-mini\",\n",
    "    handoff_description=\"Format and send the final sales email\"\n",
    ")"
   ]
  },
  {
   "cell_type": "markdown",
   "id": "b510407b",
   "metadata": {},
   "source": [
    "### Sales Manager Agent: Multi-Model Integration"
   ]
  },
  {
   "cell_type": "code",
   "execution_count": 17,
   "id": "a37debe8",
   "metadata": {},
   "outputs": [],
   "source": [
    "manager_instructions = \"\"\"You are a sales manager for TechLink. Your job is to:\n",
    "1. Try all available sales agents at least once.\n",
    "2. Evaluate the quality of their emails.\n",
    "3. Choose the most effective email.\n",
    "4. Hand off to the Email Orchestrator agent for formatting and sending.\"\"\"\n",
    "\n",
    "sales_manager = Agent(\n",
    "    name=\"Sales Manager\",\n",
    "    instructions=manager_instructions,\n",
    "    tools=agent_tools,\n",
    "    handoffs=[email_formatter],\n",
    "    model=\"gpt-4o-mini\"\n",
    ")"
   ]
  },
  {
   "cell_type": "markdown",
   "id": "54352a7d",
   "metadata": {},
   "source": [
    "## Execution and Tracing"
   ]
  },
  {
   "cell_type": "code",
   "execution_count": 46,
   "id": "bc923a2d",
   "metadata": {},
   "outputs": [],
   "source": [
    "message = \"Send out a cold sales email addressed to Dear CEO from Alice\"\n",
    "\n",
    "with trace(\"Multi-Model Sales Email Automation\"):\n",
    "    result = await Runner.run(sales_manager, message)"
   ]
  },
  {
   "cell_type": "markdown",
   "id": "3611dfff",
   "metadata": {},
   "source": [
    "### Check out the trace:\n",
    "\n",
    "https://platform.openai.com/traces"
   ]
  },
  {
   "cell_type": "markdown",
   "id": "afcfd401",
   "metadata": {},
   "source": [
    "# Example: Guardrail for Name Detection\n",
    "Prevent the sales agent from running if the input message includes a personal name (e.g., \"Alice\", \"John\")."
   ]
  },
  {
   "cell_type": "code",
   "execution_count": 36,
   "id": "77c2d54f",
   "metadata": {},
   "outputs": [],
   "source": [
    "# Define the Structured Output Schema\n",
    "from pydantic import BaseModel\n",
    "\n",
    "class NameCheckOutput(BaseModel):\n",
    "    is_name_in_message: bool\n",
    "    name: str\n",
    "\n",
    "## - Schema enforces that the output from the name-detection agent must include: is_name_in_message, name"
   ]
  },
  {
   "cell_type": "code",
   "execution_count": 37,
   "id": "da892c43",
   "metadata": {},
   "outputs": [],
   "source": [
    "# Create the Guardrail Agent\n",
    "guardrail_agent = Agent(\n",
    "    name=\"Name Validator\",\n",
    "    instructions=\"Analyze the input to determine if a personal name is present.\",\n",
    "    output_type=NameCheckOutput,\n",
    "    model=\"gpt-4o-mini\"\n",
    ")\n",
    "\n",
    "## - This agent uses the structured output to enforce strict control over its response format."
   ]
  },
  {
   "cell_type": "markdown",
   "id": "ca5d081d",
   "metadata": {},
   "source": [
    "#### Define the Input Guardrail Function"
   ]
  },
  {
   "cell_type": "code",
   "execution_count": 38,
   "id": "314df3ca",
   "metadata": {},
   "outputs": [],
   "source": [
    "from agents import input_guardrail, GuardrailFunctionOutput\n",
    "\n",
    "@input_guardrail  # Registers this function as a pre-check.\n",
    "async def block_if_personal_name_detected(ctx, agent, message):\n",
    "    result = await Runner.run(guardrail_agent, message, context=ctx.context)\n",
    "    is_triggered =  result.final_output.is_name_in_message\n",
    "    return GuardrailFunctionOutput(\n",
    "        output_info={\"detected_name_info\": result.final_output},  # Provides insight into why the guardrail was triggered.\n",
    "        tripwire_triggered=is_triggered   # tripwire_triggered=True: Automatically stops the main agent.\n",
    "    )\n",
    "\n",
    "# block_if_personal_name_detected"
   ]
  },
  {
   "cell_type": "markdown",
   "id": "bbb709c6",
   "metadata": {},
   "source": [
    "#### Attach Guardrail to the Sales Manager Agent"
   ]
  },
  {
   "cell_type": "code",
   "execution_count": 39,
   "id": "69c6c5d4",
   "metadata": {},
   "outputs": [],
   "source": [
    "manager_instructions = \"\"\"You are a sales manager for TechLink. Your job is to:\n",
    "1. Try all available sales agents at least once.\n",
    "2. Evaluate the quality of their emails.\n",
    "3. Choose the most effective email.\n",
    "4. Hand off to the Email Orchestrator agent for formatting and sending.\"\"\"\n",
    "\n",
    "professional_sales_manager = Agent(\n",
    "    name=\"Professional Sales Manager\",\n",
    "    instructions=manager_instructions,\n",
    "    tools=agent_tools,\n",
    "    handoffs=[email_formatter],\n",
    "    model=\"gpt-4o-mini\",\n",
    "    input_guardrails=[block_if_personal_name_detected]\n",
    ")"
   ]
  },
  {
   "cell_type": "markdown",
   "id": "b3c1de8f",
   "metadata": {},
   "source": [
    "#### Execute with and without Violations"
   ]
  },
  {
   "cell_type": "code",
   "execution_count": 40,
   "id": "716ed4df",
   "metadata": {},
   "outputs": [
    {
     "ename": "InputGuardrailTripwireTriggered",
     "evalue": "Guardrail InputGuardrail triggered tripwire",
     "output_type": "error",
     "traceback": [
      "\u001b[31m---------------------------------------------------------------------------\u001b[39m",
      "\u001b[31mInputGuardrailTripwireTriggered\u001b[39m           Traceback (most recent call last)",
      "\u001b[36mCell\u001b[39m\u001b[36m \u001b[39m\u001b[32mIn[40]\u001b[39m\u001b[32m, line 5\u001b[39m\n\u001b[32m      2\u001b[39m message = \u001b[33m\"\u001b[39m\u001b[33mSend out a cold sales email addressed to Dear CEO from Alice\u001b[39m\u001b[33m\"\u001b[39m\n\u001b[32m      4\u001b[39m \u001b[38;5;28;01mwith\u001b[39;00m trace(\u001b[33m\"\u001b[39m\u001b[33mSales Protected Email - With Name\u001b[39m\u001b[33m\"\u001b[39m):\n\u001b[32m----> \u001b[39m\u001b[32m5\u001b[39m     result = \u001b[38;5;28;01mawait\u001b[39;00m Runner.run(professional_sales_manager, message)\n",
      "\u001b[36mFile \u001b[39m\u001b[32m~/Training/Agentic_AI_BootCamp/.venv/lib/python3.12/site-packages/agents/run.py:218\u001b[39m, in \u001b[36mRunner.run\u001b[39m\u001b[34m(cls, starting_agent, input, context, max_turns, hooks, run_config, previous_response_id)\u001b[39m\n\u001b[32m    213\u001b[39m logger.debug(\n\u001b[32m    214\u001b[39m     \u001b[33mf\u001b[39m\u001b[33m\"\u001b[39m\u001b[33mRunning agent \u001b[39m\u001b[38;5;132;01m{\u001b[39;00mcurrent_agent.name\u001b[38;5;132;01m}\u001b[39;00m\u001b[33m (turn \u001b[39m\u001b[38;5;132;01m{\u001b[39;00mcurrent_turn\u001b[38;5;132;01m}\u001b[39;00m\u001b[33m)\u001b[39m\u001b[33m\"\u001b[39m,\n\u001b[32m    215\u001b[39m )\n\u001b[32m    217\u001b[39m \u001b[38;5;28;01mif\u001b[39;00m current_turn == \u001b[32m1\u001b[39m:\n\u001b[32m--> \u001b[39m\u001b[32m218\u001b[39m     input_guardrail_results, turn_result = \u001b[38;5;28;01mawait\u001b[39;00m asyncio.gather(\n\u001b[32m    219\u001b[39m         \u001b[38;5;28mcls\u001b[39m._run_input_guardrails(\n\u001b[32m    220\u001b[39m             starting_agent,\n\u001b[32m    221\u001b[39m             starting_agent.input_guardrails\n\u001b[32m    222\u001b[39m             + (run_config.input_guardrails \u001b[38;5;129;01mor\u001b[39;00m []),\n\u001b[32m    223\u001b[39m             copy.deepcopy(\u001b[38;5;28minput\u001b[39m),\n\u001b[32m    224\u001b[39m             context_wrapper,\n\u001b[32m    225\u001b[39m         ),\n\u001b[32m    226\u001b[39m         \u001b[38;5;28mcls\u001b[39m._run_single_turn(\n\u001b[32m    227\u001b[39m             agent=current_agent,\n\u001b[32m    228\u001b[39m             all_tools=all_tools,\n\u001b[32m    229\u001b[39m             original_input=original_input,\n\u001b[32m    230\u001b[39m             generated_items=generated_items,\n\u001b[32m    231\u001b[39m             hooks=hooks,\n\u001b[32m    232\u001b[39m             context_wrapper=context_wrapper,\n\u001b[32m    233\u001b[39m             run_config=run_config,\n\u001b[32m    234\u001b[39m             should_run_agent_start_hooks=should_run_agent_start_hooks,\n\u001b[32m    235\u001b[39m             tool_use_tracker=tool_use_tracker,\n\u001b[32m    236\u001b[39m             previous_response_id=previous_response_id,\n\u001b[32m    237\u001b[39m         ),\n\u001b[32m    238\u001b[39m     )\n\u001b[32m    239\u001b[39m \u001b[38;5;28;01melse\u001b[39;00m:\n\u001b[32m    240\u001b[39m     turn_result = \u001b[38;5;28;01mawait\u001b[39;00m \u001b[38;5;28mcls\u001b[39m._run_single_turn(\n\u001b[32m    241\u001b[39m         agent=current_agent,\n\u001b[32m    242\u001b[39m         all_tools=all_tools,\n\u001b[32m   (...)\u001b[39m\u001b[32m    250\u001b[39m         previous_response_id=previous_response_id,\n\u001b[32m    251\u001b[39m     )\n",
      "\u001b[36mFile \u001b[39m\u001b[32m~/Training/Agentic_AI_BootCamp/.venv/lib/python3.12/site-packages/agents/run.py:857\u001b[39m, in \u001b[36mRunner._run_input_guardrails\u001b[39m\u001b[34m(cls, agent, guardrails, input, context)\u001b[39m\n\u001b[32m    850\u001b[39m         t.cancel()\n\u001b[32m    851\u001b[39m     _error_tracing.attach_error_to_current_span(\n\u001b[32m    852\u001b[39m         SpanError(\n\u001b[32m    853\u001b[39m             message=\u001b[33m\"\u001b[39m\u001b[33mGuardrail tripwire triggered\u001b[39m\u001b[33m\"\u001b[39m,\n\u001b[32m    854\u001b[39m             data={\u001b[33m\"\u001b[39m\u001b[33mguardrail\u001b[39m\u001b[33m\"\u001b[39m: result.guardrail.get_name()},\n\u001b[32m    855\u001b[39m         )\n\u001b[32m    856\u001b[39m     )\n\u001b[32m--> \u001b[39m\u001b[32m857\u001b[39m     \u001b[38;5;28;01mraise\u001b[39;00m InputGuardrailTripwireTriggered(result)\n\u001b[32m    858\u001b[39m \u001b[38;5;28;01melse\u001b[39;00m:\n\u001b[32m    859\u001b[39m     guardrail_results.append(result)\n",
      "\u001b[31mInputGuardrailTripwireTriggered\u001b[39m: Guardrail InputGuardrail triggered tripwire"
     ]
    }
   ],
   "source": [
    "# Execute with Voilation\n",
    "message = \"Send out a cold sales email addressed to Dear CEO from Alice\"\n",
    "\n",
    "with trace(\"Sales Protected Email - With Name\"):\n",
    "    result = await Runner.run(professional_sales_manager, message)"
   ]
  },
  {
   "cell_type": "code",
   "execution_count": 41,
   "id": "f280b277",
   "metadata": {},
   "outputs": [],
   "source": [
    "# Execute without Voilation\n",
    "message = \"Send out a cold sales email addressed to Dear CEO from TechLink Head of Business\"\n",
    "\n",
    "with trace(\"Sales Protected Email - Without Name\"):\n",
    "    result = await Runner.run(professional_sales_manager, message)"
   ]
  },
  {
   "cell_type": "markdown",
   "id": "12b01137",
   "metadata": {},
   "source": [
    "### Check out the trace:\n",
    "\n",
    "https://platform.openai.com/traces"
   ]
  }
 ],
 "metadata": {
  "kernelspec": {
   "display_name": "Agentic_AI_BootCamp",
   "language": "python",
   "name": "python3"
  },
  "language_info": {
   "codemirror_mode": {
    "name": "ipython",
    "version": 3
   },
   "file_extension": ".py",
   "mimetype": "text/x-python",
   "name": "python",
   "nbconvert_exporter": "python",
   "pygments_lexer": "ipython3",
   "version": "3.12.4"
  }
 },
 "nbformat": 4,
 "nbformat_minor": 5
}
