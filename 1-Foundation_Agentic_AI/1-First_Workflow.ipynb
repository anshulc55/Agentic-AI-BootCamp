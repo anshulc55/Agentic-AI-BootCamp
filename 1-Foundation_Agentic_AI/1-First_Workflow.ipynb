{
 "cells": [
  {
   "cell_type": "markdown",
   "id": "74f163b4",
   "metadata": {},
   "source": [
    "# Welcome to the start of your adventure in Agentic AI"
   ]
  },
  {
   "cell_type": "code",
   "execution_count": 1,
   "id": "3d6f2d17",
   "metadata": {},
   "outputs": [
    {
     "data": {
      "text/plain": [
       "True"
      ]
     },
     "execution_count": 1,
     "metadata": {},
     "output_type": "execute_result"
    }
   ],
   "source": [
    "# Load the API keys into environment variables\n",
    "\n",
    "from dotenv import load_dotenv\n",
    "\n",
    "load_dotenv(override=True)"
   ]
  },
  {
   "cell_type": "code",
   "execution_count": 13,
   "id": "d423f394",
   "metadata": {},
   "outputs": [
    {
     "name": "stdout",
     "output_type": "stream",
     "text": [
      "OpenAI API Key exists and begins sk-ba892fdbe19\n"
     ]
    }
   ],
   "source": [
    "# Print Environment Varaible\n",
    "import os\n",
    "\n",
    "openai_api_key=os.getenv('API_TOKEN')\n",
    "deepseek_base_URL = \"https://api.deepseek.com\"\n",
    "\n",
    "if openai_api_key:\n",
    "    print(f\"OpenAI API Key exists and begins {openai_api_key[:14]}\")\n",
    "else:\n",
    "    print(\"OpenAI API Key not set - please head to the troubleshooting guide in the setup folder\")"
   ]
  },
  {
   "cell_type": "code",
   "execution_count": 14,
   "id": "5e35f42c",
   "metadata": {},
   "outputs": [
    {
     "data": {
      "text/markdown": [
       "The result of \\( 2 \\times 2 \\) is:\n",
       "\n",
       "\\[\n",
       "2 \\times 2 = 4\n",
       "\\]"
      ],
      "text/plain": [
       "<IPython.core.display.Markdown object>"
      ]
     },
     "metadata": {},
     "output_type": "display_data"
    }
   ],
   "source": [
    "# Start Building the Workflow\n",
    "from openai import OpenAI\n",
    "from IPython.display import Markdown, display\n",
    "\n",
    "\n",
    "openai_python_client = OpenAI(api_key=openai_api_key, base_url=deepseek_base_URL)\n",
    "\n",
    "response = openai_python_client.chat.completions.create(\n",
    "    model=\"deepseek-chat\",\n",
    "    messages=[\n",
    "        {\"role\": \"user\", \"content\": \", What is 2*2\"}\n",
    "    ],\n",
    "    stream=False\n",
    ")\n",
    "\n",
    "raw_response = response.choices[0].message.content\n",
    "\n",
    "display(Markdown(raw_response))\n",
    "\n"
   ]
  },
  {
   "cell_type": "code",
   "execution_count": 15,
   "id": "d64b0623",
   "metadata": {},
   "outputs": [],
   "source": [
    "# Let's ask some Question\n",
    "\n",
    "question = \"Please propose a challenging question to assess someone's IQ. Respond only with the question.\"\n",
    "messages=[\n",
    "        {\"role\": \"user\", \"content\": question}\n",
    "    ]"
   ]
  },
  {
   "cell_type": "code",
   "execution_count": 16,
   "id": "b36fa405",
   "metadata": {},
   "outputs": [
    {
     "data": {
      "text/markdown": [
       "\"If all Bloops are Razzies and all Razzies are Lazzies, are all Bloops definitely Lazzies? Explain your reasoning.\""
      ],
      "text/plain": [
       "<IPython.core.display.Markdown object>"
      ]
     },
     "metadata": {},
     "output_type": "display_data"
    }
   ],
   "source": [
    "# Ask the Question to DeepSeek\n",
    "response = openai_python_client.chat.completions.create(\n",
    "     model=\"deepseek-chat\",\n",
    "     messages=messages\n",
    ")\n",
    "\n",
    "raw_response_of_question = response.choices[0].message.content\n",
    "\n",
    "display(Markdown(raw_response_of_question))"
   ]
  },
  {
   "cell_type": "code",
   "execution_count": 17,
   "id": "7fe0fbe4",
   "metadata": {},
   "outputs": [],
   "source": [
    "# New Question\n",
    "messages=[\n",
    "        {\"role\": \"user\", \"content\": raw_response_of_question}\n",
    "    ]"
   ]
  },
  {
   "cell_type": "code",
   "execution_count": 18,
   "id": "016087ea",
   "metadata": {},
   "outputs": [
    {
     "data": {
      "text/markdown": [
       "Alright, let's tackle this problem step by step. I'm going to break it down to understand whether all Bloops are definitely Lazzies given the two statements provided.\n",
       "\n",
       "### Understanding the Problem\n",
       "\n",
       "We have three categories or groups here: Bloops, Razzies, and Lazzies. The problem gives us two statements:\n",
       "\n",
       "1. **All Bloops are Razzies.**\n",
       "2. **All Razzies are Lazzies.**\n",
       "\n",
       "And then it asks: **Are all Bloops definitely Lazzies?**\n",
       "\n",
       "At first glance, this seems like a classic example of logical syllogism, where we're given two premises and asked to derive a conclusion. \n",
       "\n",
       "### Visualizing with Venn Diagrams\n",
       "\n",
       "One helpful way to visualize these kinds of statements is by using Venn diagrams, which show how different sets relate to each other.\n",
       "\n",
       "1. **All Bloops are Razzies:** This means that the set of Bloops is entirely contained within the set of Razzies. There are no Bloops outside of Razzies.\n",
       "   \n",
       "   - Imagine a big circle labeled \"Razzies.\" Inside this circle, there's another circle labeled \"Bloops.\" Everything inside the Bloops circle is also inside the Razzies circle.\n",
       "\n",
       "2. **All Razzies are Lazzies:** This means that the set of Razzies is entirely contained within the set of Lazzies. There are no Razzies outside of Lazzies.\n",
       "   \n",
       "   - Now, imagine an even bigger circle labeled \"Lazzies.\" Inside this, we have the \"Razzies\" circle, which in turn contains the \"Bloops\" circle.\n",
       "\n",
       "So, the nesting looks like this: Lazzies ⊇ Razzies ⊇ Bloops.\n",
       "\n",
       "### Drawing the Conclusion\n",
       "\n",
       "Given this nesting:\n",
       "\n",
       "- Every Bloop is inside Razzies.\n",
       "- Every Razzie is inside Lazzies.\n",
       "  \n",
       "Therefore, every Bloop must also be inside Lazzies because to be a Bloop, you have to be a Razzie, and to be a Razzie, you have to be a Lazzie.\n",
       "\n",
       "### Checking for Exceptions or Counterexamples\n",
       "\n",
       "Is there any scenario where a Bloop is not a Lazzie? Let's think:\n",
       "\n",
       "- Suppose there's a Bloop named \"B1.\"\n",
       "  - Since all Bloops are Razzies, B1 is a Razzie.\n",
       "  - Since all Razzies are Lazzies, B1 (being a Razzie) must be a Lazzie.\n",
       "  \n",
       "There's no way for B1 to escape being a Lazzie based on the given statements.\n",
       "\n",
       "### Potential Missteps\n",
       "\n",
       "One might wonder if there's a hidden assumption or if the categories could overlap in some other way. For instance:\n",
       "\n",
       "- Could there be Bloops that are not Razzies? No, the first statement explicitly says all Bloops are Razzies.\n",
       "- Could there be Razzies that are not Lazzies? No, the second statement says all Razzies are Lazzies.\n",
       "\n",
       "Therefore, there's no wiggle room here for Bloops to not be Lazzies.\n",
       "\n",
       "### Formal Logic Perspective\n",
       "\n",
       "In formal logic, this is a straightforward application of the transitive property of inclusion.\n",
       "\n",
       "Given:\n",
       "1. Bloop → Razzie\n",
       "2. Razzie → Lazzie\n",
       "\n",
       "We can chain these implications:\n",
       "Bloop → Razzie → Lazzie, hence Bloop → Lazzie.\n",
       "\n",
       "This means if something is a Bloop, then it must be a Lazzie.\n",
       "\n",
       "### Real-world Analogy\n",
       "\n",
       "To make this more concrete, let's use a real-world example:\n",
       "\n",
       "- Suppose:\n",
       "  - All cats are mammals. (All Bloops are Razzies)\n",
       "  - All mammals are animals. (All Razzies are Lazzies)\n",
       "  \n",
       "Then, are all cats animals? Yes, because if all cats are mammals and all mammals are animals, then all cats must be animals.\n",
       "\n",
       "Similarly, all Bloops are Lazzies.\n",
       "\n",
       "### Conclusion\n",
       "\n",
       "After carefully analyzing the statements, visualizing the relationships, checking for counterexamples, and considering formal logic, it's clear that:\n",
       "\n",
       "**Yes, all Bloops are definitely Lazzies.**\n",
       "\n",
       "This is because being a Bloop necessitates being a Razzie, and being a Razzie necessitates being a Lazzie, so the chain holds that all Bloops are Lazzies."
      ],
      "text/plain": [
       "<IPython.core.display.Markdown object>"
      ]
     },
     "metadata": {},
     "output_type": "display_data"
    }
   ],
   "source": [
    "# Ask it again\n",
    "response = openai_python_client.chat.completions.create(\n",
    "     model=\"deepseek-chat\",\n",
    "     messages=messages\n",
    ")\n",
    "\n",
    "raw_answer_of_question = response.choices[0].message.content\n",
    "\n",
    "display(Markdown(raw_answer_of_question))"
   ]
  }
 ],
 "metadata": {
  "kernelspec": {
   "display_name": ".venv",
   "language": "python",
   "name": "python3"
  },
  "language_info": {
   "codemirror_mode": {
    "name": "ipython",
    "version": 3
   },
   "file_extension": ".py",
   "mimetype": "text/x-python",
   "name": "python",
   "nbconvert_exporter": "python",
   "pygments_lexer": "ipython3",
   "version": "3.12.4"
  }
 },
 "nbformat": 4,
 "nbformat_minor": 5
}
