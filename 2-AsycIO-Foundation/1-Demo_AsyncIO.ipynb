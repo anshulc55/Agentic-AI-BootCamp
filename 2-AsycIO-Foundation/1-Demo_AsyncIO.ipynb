{
 "cells": [
  {
   "cell_type": "markdown",
   "id": "da3e72c0",
   "metadata": {},
   "source": [
    "# Sync Vs Async IO"
   ]
  },
  {
   "cell_type": "code",
   "execution_count": 1,
   "id": "5a9716af",
   "metadata": {},
   "outputs": [
    {
     "name": "stdout",
     "output_type": "stream",
     "text": [
      "Fetching data...\n",
      "Data received!\n",
      "Fetching data...\n",
      "Data received!\n"
     ]
    }
   ],
   "source": [
    "# Synchronous Code (Blocking)\n",
    "\n",
    "import time\n",
    "\n",
    "def fetch_data():\n",
    "    print(\"Fetching data...\")\n",
    "    time.sleep(5)  # Blocking!\n",
    "    return \"Data received!\"\n",
    "\n",
    "def main():\n",
    "    print(fetch_data())\n",
    "    print(fetch_data())\n",
    "\n",
    "main()"
   ]
  },
  {
   "cell_type": "code",
   "execution_count": 36,
   "id": "ab05058f",
   "metadata": {},
   "outputs": [
    {
     "name": "stdout",
     "output_type": "stream",
     "text": [
      "Fetching data...\n",
      "Fetching data...\n",
      "['Data received!', 'Data received!']\n"
     ]
    }
   ],
   "source": [
    "# Asynchronous Code (Non Blocking)\n",
    "\n",
    "import asyncio\n",
    "\n",
    "async def fetch_data():         # Coroutine\n",
    "    print(\"Fetching data...\")\n",
    "    await asyncio.sleep(5)  # Blocking!\n",
    "    return \"Data received!\"\n",
    "\n",
    "async def main():           # Coroutine\n",
    "    # print(await fetch_data())\n",
    "    # print(await fetch_data())\n",
    "    results = await asyncio.gather(fetch_data(), fetch_data())\n",
    "    print(results)\n",
    "\n",
    "await main()"
   ]
  },
  {
   "cell_type": "code",
   "execution_count": null,
   "id": "2ad7145f",
   "metadata": {},
   "outputs": [
    {
     "name": "stdout",
     "output_type": "stream",
     "text": [
      "Fetching data for A...\n",
      "Data received for A!\n",
      "Fetching data for B...\n",
      "Data received for B!\n",
      "Fetching data for C...\n",
      "Data received for C!\n"
     ]
    }
   ],
   "source": [
    "# Synchronous Code MultiFuncation (Blocking)\n",
    "\n",
    "import time\n",
    "\n",
    "def fetch_data_A():\n",
    "    print(\"Fetching data for A...\")\n",
    "    time.sleep(5)  # Blocking!\n",
    "    return \"Data received for A!\"\n",
    "\n",
    "def fetch_data_B():\n",
    "    print(\"Fetching data for B...\")\n",
    "    time.sleep(10)  # Blocking!\n",
    "    return \"Data received for B!\"\n",
    "\n",
    "def fetch_data_C():\n",
    "    print(\"Fetching data for C...\")\n",
    "    time.sleep(8)  # Blocking!\n",
    "    return \"Data received for C!\"\n",
    "\n",
    "def main():\n",
    "    print(fetch_data_A())\n",
    "    print(fetch_data_B())\n",
    "    print(fetch_data_C())\n",
    "\n",
    "main()"
   ]
  },
  {
   "cell_type": "code",
   "execution_count": 39,
   "id": "46383cde",
   "metadata": {},
   "outputs": [
    {
     "name": "stdout",
     "output_type": "stream",
     "text": [
      "Fetching data for A...\n",
      "Fetching data for B...\n",
      "Fetching data for C...\n",
      "Data received for A!\n",
      "Data received for C!\n",
      "Data received for B!\n",
      "['Data received for A!', 'Data received for B!', 'Data received for C!']\n"
     ]
    }
   ],
   "source": [
    "# Asynchronous Code MultiFuncation (Non Blocking)\n",
    "\n",
    "import asyncio\n",
    "\n",
    "async def fetch_data_A():\n",
    "    print(\"Fetching data for A...\")\n",
    "    await asyncio.sleep(5)  # Blocking!\n",
    "    print(\"Data received for A!\")\n",
    "    return \"Data received for A!\"\n",
    "\n",
    "async def fetch_data_B():\n",
    "    print(\"Fetching data for B...\")\n",
    "    await asyncio.sleep(10)  # Blocking!\n",
    "    print(\"Data received for B!\")\n",
    "    return \"Data received for B!\"\n",
    "\n",
    "async def fetch_data_C():\n",
    "    print(\"Fetching data for C...\")\n",
    "    await asyncio.sleep(8)  # Blocking!\n",
    "    print(\"Data received for C!\")\n",
    "    return \"Data received for C!\"\n",
    "\n",
    "async def main():\n",
    "    # print(fetch_data_A())\n",
    "    # print(fetch_data_B())\n",
    "    # print(fetch_data_C())\n",
    "    results = await asyncio.gather(fetch_data_A(), fetch_data_B(), fetch_data_C())\n",
    "    print(results)\n",
    "\n",
    "await main()"
   ]
  },
  {
   "cell_type": "code",
   "execution_count": null,
   "id": "4f750cf8",
   "metadata": {},
   "outputs": [],
   "source": [
    "# Calling multiple LLMs (e.g., OpenAI, Gemini, DeepSeek) in sequence is slow and inefficient\n",
    "\n",
    "response1 = openai_call()\n",
    "response2 = gemini_call()\n",
    "response3 = deepseek_call()\n",
    "\n",
    "# If each takes ~5 seconds, total = 15 seconds."
   ]
  },
  {
   "cell_type": "code",
   "execution_count": null,
   "id": "1e70cc6c",
   "metadata": {},
   "outputs": [],
   "source": [
    "async def query_all_models():\n",
    "    results = await asyncio.gather(\n",
    "        openai_call(),\n",
    "        gemini_call(),\n",
    "        deepseek_call()\n",
    "    )\n",
    "    return results\n",
    "\n",
    "# Now the whole process takes just ~5 seconds — a 3× speedup!"
   ]
  },
  {
   "cell_type": "code",
   "execution_count": 40,
   "id": "418ab45e",
   "metadata": {},
   "outputs": [
    {
     "name": "stdout",
     "output_type": "stream",
     "text": [
      "Calling OpenAI...\n",
      "Calling Gemini...\n",
      "Calling DeepSeek...\n",
      "All results: ['OpenAI response', 'Gemini response', 'DeepSeek response']\n"
     ]
    }
   ],
   "source": [
    "import asyncio\n",
    "\n",
    "async def fake_llm_call(model, delay):\n",
    "    print(f\"Calling {model}...\")\n",
    "    await asyncio.sleep(delay)\n",
    "    return f\"{model} response\"\n",
    "\n",
    "async def main():\n",
    "    results = await asyncio.gather(\n",
    "        fake_llm_call(\"OpenAI\", 2),\n",
    "        fake_llm_call(\"Gemini\", 3),\n",
    "        fake_llm_call(\"DeepSeek\", 1)\n",
    "    )\n",
    "    print(\"All results:\", results)\n",
    "\n",
    "await main()"
   ]
  }
 ],
 "metadata": {
  "kernelspec": {
   "display_name": ".venv",
   "language": "python",
   "name": "python3"
  },
  "language_info": {
   "codemirror_mode": {
    "name": "ipython",
    "version": 3
   },
   "file_extension": ".py",
   "mimetype": "text/x-python",
   "name": "python",
   "nbconvert_exporter": "python",
   "pygments_lexer": "ipython3",
   "version": "3.12.4"
  }
 },
 "nbformat": 4,
 "nbformat_minor": 5
}
