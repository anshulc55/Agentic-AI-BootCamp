{
 "cells": [
  {
   "cell_type": "markdown",
   "id": "446ea25f",
   "metadata": {},
   "source": [
    "# Hands-On Demo: Building a Web-Browsing Agent"
   ]
  },
  {
   "cell_type": "markdown",
   "id": "a6e766f1",
   "metadata": {},
   "source": [
    "#### Install Playwright\n",
    "\n",
    "playwright, nest_asyncio\n",
    "\n",
    "##### For Mac and Windows\n",
    "`playwright install`\n",
    "\n",
    "##### For Linux\n",
    "`playwright install —with-reps chromium`"
   ]
  },
  {
   "cell_type": "code",
   "execution_count": null,
   "id": "3e7a8145",
   "metadata": {},
   "outputs": [],
   "source": [
    "# Handle Async in Notebooks\n",
    "import nest_asyncio\n",
    "nest_asyncio.apply()"
   ]
  },
  {
   "cell_type": "code",
   "execution_count": null,
   "id": "b426e702",
   "metadata": {},
   "outputs": [],
   "source": [
    "from langchain_community.agent_toolkits import PlayWrightBrowserToolkit\n",
    "from langchain_community.tools.playwright.utils import create_async_playwright_browser\n",
    "\n",
    "async_browser =  create_async_playwright_browser(headless=False)  # headful mode\n",
    "toolkit = PlayWrightBrowserToolkit(async_browser=async_browser)\n",
    "\n",
    "tools = toolkit.get_tools()\n",
    "\n",
    "for tool in tools:\n",
    "    print(tool.name,\" :: \", tool.description)\n"
   ]
  },
  {
   "cell_type": "markdown",
   "id": "cd7a4223",
   "metadata": {},
   "source": [
    "## AI Web Assistant – LangGraph + Playwright + MemorySaver + Gradio"
   ]
  },
  {
   "cell_type": "code",
   "execution_count": null,
   "id": "bd436d63",
   "metadata": {},
   "outputs": [],
   "source": [
    "import nest_asyncio\n",
    "from langchain_community.agent_toolkits import PlayWrightBrowserToolkit\n",
    "from langchain_community.tools.playwright.utils import create_async_playwright_browser\n",
    "from typing import Annotated\n",
    "from typing_extensions import TypedDict\n",
    "from langgraph.graph import StateGraph, START\n",
    "from langgraph.graph.message import add_messages\n",
    "from bs4 import BeautifulSoup\n",
    "import textwrap\n",
    "from langchain_openai import ChatOpenAI\n",
    "from langgraph.prebuilt import ToolNode, tools_condition\n",
    "from langgraph.checkpoint.memory import MemorySaver\n",
    "\n",
    "\n",
    "nest_asyncio.apply()\n",
    "async_browser =  create_async_playwright_browser(headless=True)  # headful mode\n",
    "toolkit = PlayWrightBrowserToolkit(async_browser=async_browser)\n",
    "\n",
    "tools = toolkit.get_tools()\n",
    "\n",
    "# Define State \n",
    "class State(TypedDict):\n",
    "    messages: Annotated[list, add_messages]\n",
    "\n",
    "# Initialize Graph\n",
    "graph_builder = StateGraph(State)\n",
    "\n",
    "# Playwright Browser Toolkit\n",
    "# tool_dict = {tool.name:tool for tool in tools}\n",
    "# navigate_tool = tool_dict.get(\"navigate_browser\")\n",
    "# extract_text_tool = tool_dict.get(\"extract_text\")\n",
    "\n",
    "# await navigate_tool.arun({\"url\": \"https://www.bbc.com\"})\n",
    "# text = await extract_text_tool.arun({})\n",
    "# print(textwrap.fill(text, width=100))\n",
    "\n",
    "# Initialize LLM\n",
    "llm = ChatOpenAI(model=\"gpt-4o-mini\")\n",
    "llm = llm.bind_tools(tools)\n",
    "\n",
    "# Define the Node\n",
    "def chatbot(state: State):\n",
    "    return {\"messages\": [llm.invoke(state[\"messages\"])]}\n",
    "\n",
    "# Add Nodes and Edges\n",
    "graph_builder = StateGraph(State)\n",
    "graph_builder.add_node(\"chatbot\", chatbot)\n",
    "graph_builder.add_node(\"tools\", ToolNode(tools=tools))\n",
    "\n",
    "graph_builder.add_conditional_edges( \"chatbot\", tools_condition, \"tools\")\n",
    "graph_builder.add_edge(\"tools\", \"chatbot\")\n",
    "graph_builder.add_edge(START, \"chatbot\")\n",
    "\n",
    "# Compile the Graph\n",
    "memory = MemorySaver()\n",
    "graph = graph_builder.compile(checkpointer=memory)"
   ]
  },
  {
   "cell_type": "code",
   "execution_count": null,
   "id": "2d16ace2",
   "metadata": {},
   "outputs": [],
   "source": [
    "import gradio as gr\n",
    "\n",
    "config = {\"configurable\": {\"thread_id\": \"1\"}}\n",
    "\n",
    "async def chat(user_input: str, history):\n",
    "    result = await graph.ainvoke({\"messages\": [{\"role\": \"user\", \"content\": user_input}]}, config=config)\n",
    "    return result[\"messages\"][-1].content\n",
    "\n",
    "\n",
    "gr.ChatInterface(chat, type=\"messages\").launch()"
   ]
  }
 ],
 "metadata": {
  "kernelspec": {
   "display_name": "Agentic_AI_BootCamp (3.12.4)",
   "language": "python",
   "name": "python3"
  },
  "language_info": {
   "codemirror_mode": {
    "name": "ipython",
    "version": 3
   },
   "file_extension": ".py",
   "mimetype": "text/x-python",
   "name": "python",
   "nbconvert_exporter": "python",
   "pygments_lexer": "ipython3",
   "version": "3.12.4"
  }
 },
 "nbformat": 4,
 "nbformat_minor": 5
}
