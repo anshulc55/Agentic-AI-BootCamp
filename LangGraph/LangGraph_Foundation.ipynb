{
 "cells": [
  {
   "cell_type": "markdown",
   "id": "aaabd731",
   "metadata": {},
   "source": [
    "# Introducing LangGraph!"
   ]
  },
  {
   "cell_type": "code",
   "execution_count": null,
   "id": "556b5928",
   "metadata": {},
   "outputs": [],
   "source": [
    "from langgraph.graph import  StateGraph \n",
    "from pydantic import BaseModel\n",
    "from typing import Annotated\n",
    "from langgraph.graph.message import add_messages\n"
   ]
  },
  {
   "cell_type": "code",
   "execution_count": 14,
   "id": "654d3c6f",
   "metadata": {},
   "outputs": [
    {
     "data": {
      "text/plain": [
       "'You poked PETER!'"
      ]
     },
     "execution_count": 14,
     "metadata": {},
     "output_type": "execute_result"
    }
   ],
   "source": [
    "def poke(name: str) -> str:\n",
    "    return f\"You poked {name.upper()}!\"\n",
    "\n",
    "poke(\"Peter\")"
   ]
  },
  {
   "cell_type": "code",
   "execution_count": 15,
   "id": "1a0311e3",
   "metadata": {},
   "outputs": [
    {
     "data": {
      "text/plain": [
       "'You poked PETER!'"
      ]
     },
     "execution_count": 15,
     "metadata": {},
     "output_type": "execute_result"
    }
   ],
   "source": [
    "def poke(name: Annotated[str, \"Something to be Poked\"]) -> str:\n",
    "    return f\"You poked {name.upper()}!\"\n",
    "\n",
    "poke(\"Peter\")"
   ]
  },
  {
   "cell_type": "markdown",
   "id": "778f06c2",
   "metadata": {},
   "source": [
    "## Define State Object"
   ]
  },
  {
   "cell_type": "code",
   "execution_count": 17,
   "id": "da272e4b",
   "metadata": {},
   "outputs": [],
   "source": [
    "class PokeState(BaseModel):\n",
    "    prompts: Annotated[list, add_messages]"
   ]
  },
  {
   "cell_type": "markdown",
   "id": "a65be141",
   "metadata": {},
   "source": [
    "## Build Graph with State"
   ]
  },
  {
   "cell_type": "code",
   "execution_count": 18,
   "id": "8ef7e99e",
   "metadata": {},
   "outputs": [],
   "source": [
    "graphBuilder = StateGraph(PokeState)"
   ]
  },
  {
   "cell_type": "markdown",
   "id": "ef3f3c05",
   "metadata": {},
   "source": [
    "Initial State: { prompts: [] }\n",
    "\n",
    "Node A outputs \"Hello\"\n",
    "Reducer(add_messages) → { prompts: [\"Hello\"] }\n",
    "\n",
    "Node B outputs \"World\"\n",
    "Reducer(add_messages) → { prompts: [\"Hello\", \"World\"] }\n"
   ]
  }
 ],
 "metadata": {
  "kernelspec": {
   "display_name": "Agentic_AI_BootCamp (3.12.4)",
   "language": "python",
   "name": "python3"
  },
  "language_info": {
   "codemirror_mode": {
    "name": "ipython",
    "version": 3
   },
   "file_extension": ".py",
   "mimetype": "text/x-python",
   "name": "python",
   "nbconvert_exporter": "python",
   "pygments_lexer": "ipython3",
   "version": "3.12.4"
  }
 },
 "nbformat": 4,
 "nbformat_minor": 5
}
