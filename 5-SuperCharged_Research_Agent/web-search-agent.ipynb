{
 "cells": [
  {
   "cell_type": "markdown",
   "id": "563b8738",
   "metadata": {},
   "source": [
    "# Building a Supercharged Web Agent\n",
    "We’ll be building a “Supercharged Research Agent” that takes a user prompt, searches the web, and returns a clean, structured summary for human use."
   ]
  },
  {
   "cell_type": "code",
   "execution_count": 21,
   "id": "67b193d3",
   "metadata": {},
   "outputs": [],
   "source": [
    "# Import Dependency Libs\n",
    "from dotenv import load_dotenv\n",
    "from agents import Agent, WebSearchTool, trace, Runner\n",
    "from agents.model_settings import ModelSettings\n",
    "from IPython.display import display, Markdown\n",
    "\n",
    "\n",
    "load_dotenv(override=True)\n",
    "\n",
    "# Agent Instructions: Clear and Direct\n",
    "RESEARCH_PROMPT = (\n",
    "    \"You are a highly efficient research assistant. \"\n",
    "    \"Given a topic, perform a thorough web search and return a well-organized, factual summary \"\n",
    "    \"in under 500 words. Summarize clearly, capture core insights, and omit fluff. \"\n",
    "    \"No personal opinions or commentary. This is for someone writing a report.\"\n",
    ")\n",
    "\n",
    "# Initialize Web Search Agent\n",
    "web_search_agent = Agent(\n",
    "    name=\"Web Research Agent\",\n",
    "    instructions=RESEARCH_PROMPT,\n",
    "    tools=[WebSearchTool(search_context_size='low')],\n",
    "    model=\"gpt-4o-mini\",\n",
    "    model_settings=ModelSettings(tool_choice=\"required\")\n",
    ")"
   ]
  },
  {
   "cell_type": "code",
   "execution_count": null,
   "id": "452ffa9d",
   "metadata": {},
   "outputs": [],
   "source": [
    "# Topic to Search\n",
    "search=\"Best 3 performing index funds in the US market in current quarter\"\n",
    "\n",
    "# Run the Agent\n",
    "with trace(\"Web Search Execution\"):\n",
    "    result = await Runner.run(web_search_agent, search)\n",
    "\n",
    "# Display Results\n",
    "display(Markdown(result.final_output))"
   ]
  },
  {
   "cell_type": "markdown",
   "id": "08b13410",
   "metadata": {},
   "source": [
    "### Pricing of OpenAI APIs\n",
    "https://platform.openai.com/docs/pricing#web-search"
   ]
  },
  {
   "cell_type": "markdown",
   "id": "cabd20dc",
   "metadata": {},
   "source": [
    "### Check out the trace:\n",
    "\n",
    "https://platform.openai.com/traces"
   ]
  },
  {
   "cell_type": "markdown",
   "id": "71b9fc68",
   "metadata": {},
   "source": [
    "## Planning Web Searches with Structured AI Output"
   ]
  },
  {
   "cell_type": "code",
   "execution_count": null,
   "id": "6daef647",
   "metadata": {},
   "outputs": [],
   "source": [
    "from pydantic import BaseModel\n",
    "\n",
    "# Define structured output for each search item\n",
    "class SearchTask(BaseModel):\n",
    "    reason: str  # Why this particular search matters\n",
    "    query: str   # The actual web search string\n",
    "\n",
    "# The full output schema from the planner\n",
    "class SearchPlan(BaseModel):\n",
    "    searches: list[SearchTask]  # A list of search instructions\n",
    "\n",
    "# How many searches should the planner generate?\n",
    "NUMBER_OF_SEARCHES=10\n",
    "\n",
    "# Instructions: Well-formed prompt for planning\n",
    "PLANNER_PROMPT = (\n",
    "    f\"You are a financial research planner. Given a user query, identify {NUMBER_OF_SEARCHES} distinct search terms \"\n",
    "    \"that would help answer it comprehensively. For each search, include a short reason explaining its relevance.\"\n",
    ")\n",
    "\n",
    "# Agent to generate the structured search plan\n",
    "search_planner_agent = Agent(\n",
    "    name=\"SearchPlannerAgent\",\n",
    "    instructions=PLANNER_PROMPT,\n",
    "    model=\"gpt-4o-mini\",\n",
    "    output_type=SearchPlan  # Agent is expected to output a Pydantic structure\n",
    ")\n"
   ]
  },
  {
   "cell_type": "code",
   "execution_count": 23,
   "id": "12656c7d",
   "metadata": {},
   "outputs": [
    {
     "name": "stdout",
     "output_type": "stream",
     "text": [
      "searches=[SearchTask(reason=\"To identify top-performing funds, it's essential to find resources that track and report the performance of index funds specifically for the current quarter.\", query='top performing index funds US Q3 2023'), SearchTask(reason='Analyzing recent market trends provides insight into which index funds have gained traction and performed well over the specified time period.', query='US market index fund performance trends Q3 2023'), SearchTask(reason='Reviewing expert analyses and ratings on index funds helps to determine which funds are being highlighted as top performers based on various metrics.', query='expert analysis best performing index funds Q3 2023'), SearchTask(reason='Official reports or databases can provide authoritative data on fund performance metrics and rankings for the most accurate and updated information.', query='index fund performance reports Q3 2023')]\n"
     ]
    }
   ],
   "source": [
    "# Example financial query\n",
    "user_query = \"Best 3 performing index funds in the US market in current quarter\"\n",
    "\n",
    "# Execute agent and capture trace\n",
    "with trace(\"SearchPlan Generation\"):\n",
    "    result = await Runner.run(search_planner_agent, user_query)\n",
    "    print(result.final_output)"
   ]
  },
  {
   "cell_type": "markdown",
   "id": "9c79fbf8",
   "metadata": {},
   "source": [
    "## Designing End-to-End Research Pipelines"
   ]
  },
  {
   "cell_type": "code",
   "execution_count": 36,
   "id": "23e8da42",
   "metadata": {},
   "outputs": [],
   "source": [
    "from agents import function_tool\n",
    "from sendgrid.helpers.mail import Email, To, Content, Mail\n",
    "import sendgrid, os\n",
    "\n",
    "# Email Sender Tool\n",
    "@function_tool\n",
    "def send_email(subject: str, html_body: str):\n",
    "     \"\"\"Send an HTML email with subject and body to the recipient list.\"\"\"\n",
    "     sg = sendgrid.SendGridAPIClient(api_key=os.environ.get(\"SENDGRID_API_KEY\"))\n",
    "     sender = Email(\"anshulc55@gmail.com\")\n",
    "     recipient = To(\"anshulc55@icloud.com\")\n",
    "     content = Content(\"text/html\", html_body)\n",
    "     email = Mail(sender, recipient, subject, content).get()\n",
    "     response = sg.client.mail.send.post(request_body=email)\n",
    "     return {\"status\": \"Success\" , \"code\": response.status_code}"
   ]
  },
  {
   "cell_type": "code",
   "execution_count": 37,
   "id": "c35e6fea",
   "metadata": {},
   "outputs": [],
   "source": [
    "###  This agent takes a full research report, converts it into styled HTML, and triggers send_email.\n",
    "\n",
    "# Email Agent\n",
    "INSTRUCTIONS = \"\"\"You are able to send a nicely formatted HTML email based on a detailed report.\n",
    "You will be provided with a detailed report. You should use your tool to send one email, providing the \n",
    "report converted into clean, well presented HTML with an appropriate subject line.\"\"\"\n",
    "\n",
    "email_agent = Agent(\n",
    "    name=\"EmailAgent\",\n",
    "    instructions=INSTRUCTIONS,\n",
    "    tools=[send_email],\n",
    "    model=\"gpt-4o-mini\",\n",
    ")"
   ]
  },
  {
   "cell_type": "code",
   "execution_count": 38,
   "id": "f38d64d6",
   "metadata": {},
   "outputs": [],
   "source": [
    "## This agent takes results from all search tasks and writes a long-form, structured markdown report.\n",
    "\n",
    "class ReportData(BaseModel):\n",
    "    short_summary: str\n",
    "    \"\"\"A short 2-3 sentence summary of the findings.\"\"\"\n",
    "\n",
    "    markdown_report: str\n",
    "    \"\"\"The final report\"\"\"\n",
    "\n",
    "    follow_up_questions: list[str]\n",
    "    \"\"\"Suggested topics to research further\"\"\"\n",
    "\n",
    "# Report Generator Agent\n",
    "INSTRUCTIONS = (\n",
    "    \"You are a senior researcher tasked with writing a cohesive report for a research query. \"\n",
    "    \"You will be provided with the original query, and some initial research done by a research assistant.\\n\"\n",
    "    \"You should first come up with an outline for the report that describes the structure and \"\n",
    "    \"flow of the report. Then, generate the report and return that as your final output.\\n\"\n",
    "    \"The final output should be in markdown format, and it should be lengthy and detailed. Aim \"\n",
    "    \"for 5–10 pages of content, at least 1000 words.\"\n",
    ")\n",
    "\n",
    "writer_agent = Agent(\n",
    "    name=\"WriterAgent\",\n",
    "    instructions=INSTRUCTIONS,\n",
    "    model=\"gpt-4o-mini\",\n",
    "    output_type=ReportData\n",
    ")"
   ]
  },
  {
   "cell_type": "markdown",
   "id": "db7d1c08",
   "metadata": {},
   "source": [
    "## Async Pipeline Functions"
   ]
  },
  {
   "cell_type": "code",
   "execution_count": null,
   "id": "a6caace4",
   "metadata": {},
   "outputs": [],
   "source": [
    "## First generate a reasoned plan before searching.\n",
    "import asyncio\n",
    "async def search_planner(query: str):\n",
    "    \"\"\"Use planner_agent to generate a structured list of web searches for a given research query.\"\"\"\n",
    "    print(\"Planning for searches...\")\n",
    "    result = await Runner.run(search_planner_agent, query)\n",
    "    print(f\"Will perform {len(result.final_output.searches)} searches\")\n",
    "    return result.final_output\n",
    "\n",
    "## Function to Perform WebSearch : OpenAI WebSearch Tool\n",
    "async def web_search(search_task: SearchTask):\n",
    "    \"\"\"Run a single web search using the search_agent for a given query and reason.\"\"\"\n",
    "    input = f\"Search term: {search_task.query}\\nReason for searching: {search_task.reason}\"\n",
    "    result = await Runner.run(web_search_agent, input)\n",
    "    return result.final_output\n",
    "\n",
    "## Running web_search in parallel\n",
    "async def perform_parallel_searches(search_plan: SearchPlan):\n",
    "    \"\"\"Perform web searches in parallel using asyncio to speed up data collection.\"\"\"\n",
    "    print(\"Perform Parallel Searching...\")\n",
    "    tasks = [asyncio.create_task(web_search(task)) for task in search_plan.searches]\n",
    "    results = await asyncio.gather(*tasks)\n",
    "    print(\"Finished searching !!!\")\n",
    "    return results"
   ]
  },
  {
   "cell_type": "code",
   "execution_count": 40,
   "id": "f615908a",
   "metadata": {},
   "outputs": [],
   "source": [
    "## Generate Report from Search Results\n",
    "async def generate_detailed_report(user_query: str, search_summaries: list[str]):\n",
    "    \"\"\"Use the WriterAgent to compile a structured, markdown-based research report.\"\"\"\n",
    "    print(\"Thinking deeply about the report...\")\n",
    "    prompt_input = f\"Original query: {user_query}\\nSummarized search results: {search_summaries}\"\n",
    "    result = await Runner.run(writer_agent, prompt_input)\n",
    "    print(\"Finished writing the report!\")\n",
    "    return result.final_output\n",
    "\n",
    "## Email the Final Report\n",
    "async def dispatch_report_via_email(report: ReportData):\n",
    "    \"\"\"Use the EmailAgent to send the formatted report via HTML email.\"\"\"\n",
    "    print(\"Preparing email...\")\n",
    "    result = await Runner.run(email_agent, report.markdown_report)\n",
    "    print(\"Email sent successfully!\")\n",
    "    return report"
   ]
  },
  {
   "cell_type": "code",
   "execution_count": null,
   "id": "9c0da4cf",
   "metadata": {},
   "outputs": [
    {
     "name": "stdout",
     "output_type": "stream",
     "text": [
      "Starting full research pipeline...\n",
      "Planning for searches...\n",
      "Will perform 20 searches\n",
      "Perform Parallel Searching...\n",
      "Finished searching !!!\n",
      "Thinking deeply about the report...\n",
      "Finished writing the report!\n",
      "Preparing email...\n",
      "Email sent successfully!\n",
      "🎉 Research workflow completed! Check your inbox.\n"
     ]
    }
   ],
   "source": [
    "# Final Pipeline Execution\n",
    "\n",
    "# Research Query\n",
    "research_query = \"Comparison of growth vs value investing strategies.\"\n",
    "\n",
    "# Track the entire flow\n",
    "with trace(\"Financial Research trace\"):\n",
    "    print(\"Starting full research pipeline...\")\n",
    "\n",
    "    # Step 1: Plan web searches\n",
    "    search_plan = await search_planner(research_query)\n",
    "\n",
    "    # Step 2: Perform all searches asynchronously\n",
    "    search_results = await perform_parallel_searches(search_plan)\n",
    "\n",
    "    # Step 3: Generate structured markdown report\n",
    "    final_report = await generate_detailed_report(research_query, search_results)\n",
    "\n",
    "    # Step 4: Email the report as HTML\n",
    "    await dispatch_report_via_email(final_report)\n",
    "\n",
    "    print(\"🎉 Research workflow completed! Check your inbox.\")"
   ]
  },
  {
   "cell_type": "markdown",
   "id": "e13802e1",
   "metadata": {},
   "source": [
    "<table style=\"margin: 0; text-align: left; width:100%\"> <tr> <td> <h2 style=\"color:#00cc00;\">🌟 Congratulations!</h2> <span style=\"color:#00cc00;\"> You’ve just designed, built, and executed a complete **Autonomous AI Research Pipeline**.<br/><br/> You didn’t just write prompts—you orchestrated agents, async tasks, and output delivery with production-level patterns.<br/><br/> 🧠 You’ve upskilled.<br/> 💼 You’ve unlocked automation possibilities.<br/> 🛠️ You’ve created reusable agent components.<br/><br/> If you're enjoying this journey, I’d love your support:<br/> 👉 Rate the course on Udemy if you haven’t already<br/> 👉 <a href=\"https://www.linkedin.com/in/anshulchauhan/\">Connect with me on LinkedIn</a><br/></span> </td> </tr> </table>"
   ]
  }
 ],
 "metadata": {
  "kernelspec": {
   "display_name": ".venv",
   "language": "python",
   "name": "python3"
  },
  "language_info": {
   "codemirror_mode": {
    "name": "ipython",
    "version": 3
   },
   "file_extension": ".py",
   "mimetype": "text/x-python",
   "name": "python",
   "nbconvert_exporter": "python",
   "pygments_lexer": "ipython3",
   "version": "3.12.4"
  }
 },
 "nbformat": 4,
 "nbformat_minor": 5
}
