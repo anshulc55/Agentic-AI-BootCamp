{
 "cells": [
  {
   "cell_type": "markdown",
   "id": "c2690969",
   "metadata": {},
   "source": [
    "# Sales Outreach Agent"
   ]
  },
  {
   "cell_type": "code",
   "execution_count": 30,
   "id": "c005e988",
   "metadata": {},
   "outputs": [
    {
     "data": {
      "text/plain": [
       "True"
      ]
     },
     "execution_count": 30,
     "metadata": {},
     "output_type": "execute_result"
    }
   ],
   "source": [
    "from dotenv import load_dotenv\n",
    "from agents import Agent, Runner, trace\n",
    "from openai.types.responses import ResponseTextDeltaEvent\n",
    "\n",
    "# Load environment variables\n",
    "load_dotenv(override=True)"
   ]
  },
  {
   "cell_type": "code",
   "execution_count": 31,
   "id": "921ca7bf",
   "metadata": {},
   "outputs": [],
   "source": [
    "# Define agent personas with distinct tones\n",
    "\n",
    "professional_prompt = (\n",
    "    \"You are a professional sales agent at TechLink, \"\n",
    "    \"an online education company offering AI-driven, career-focused learning programs. \"\n",
    "    \"Your goal is to write serious, persuasive cold outreach emails targeted at professionals and educational institutions.\"\n",
    ")\n",
    "\n",
    "engaging_prompt = (\n",
    "    \"You are a witty, engaging sales agent at TechLink, \"\n",
    "    \"an online education company offering AI-powered, upskilling programs for tech and business roles. \"\n",
    "    \"Craft humorous, attention-grabbing cold emails that spark curiosity and encourage responses.\"\n",
    ")\n",
    "\n",
    "concise_prompt = (\n",
    "    \"You are a fast-moving, efficient sales agent at TechLink, \"\n",
    "    \"an online education platform offering smart, AI-powered learning paths. \"\n",
    "    \"Write short, compelling cold emails that quickly highlight value and drive action.\"\n",
    ")\n",
    "\n",
    "# Create three distinct AI agents\n",
    "professional_agent = Agent(\n",
    "    name=\"Professional Sales Agent\",\n",
    "    instructions=professional_prompt,\n",
    "    model=\"gpt-4o-mini\"\n",
    ")\n",
    "\n",
    "engaging_agent = Agent(\n",
    "    name=\"Engaging Sales Agent\",\n",
    "    instructions=engaging_prompt,\n",
    "    model=\"gpt-4o-mini\"\n",
    ")\n",
    "\n",
    "concise_agent = Agent(\n",
    "    name=\"Concise Sales Agent\",\n",
    "    instructions=concise_prompt,\n",
    "    model=\"gpt-4o-mini\"\n",
    ")\n"
   ]
  },
  {
   "cell_type": "code",
   "execution_count": 16,
   "id": "c149efb6",
   "metadata": {},
   "outputs": [
    {
     "name": "stdout",
     "output_type": "stream",
     "text": [
      "Subject: Unlock Your Future Faster Than a Cat on a Roomba! 🐱🚀\n",
      "\n",
      "Hi [First Name],\n",
      "\n",
      "Ever watched a cat ride a Roomba? It’s mesmerizing, and believe me, that’s exactly how fast your career could be zooming forward with our AI-powered upskilling programs at TechLink!\n",
      "\n",
      "Think about it: in the time it takes to fill your coffee cup, you could be acquiring skills that’ll have employers wondering if you’re a wizard—except instead of casting spells, you’ll be magic with data and tech!\n",
      "\n",
      "Why TechLink, you ask? \n",
      "- **AI-Powered Learning**: Our programs learn how you learn, so it’s like having a personal trainer for your brain!\n",
      "- **Flexible Schedules**: Learn at your own pace—coffee breaks included, of course!\n",
      "- **Real-World Projects**: Tackle projects that make your resume pop like popcorn in the microwave!\n",
      "\n",
      "Curious to see how we can turn your career trajectory from “meh” to “WOW”? Let’s chat! I promise, it’ll be more fun than a cat in a box!\n",
      "\n",
      "Looking forward to your reply (preferably before I crave another cup of coffee),\n",
      "\n",
      "[Your Name]  \n",
      "[Your Position]  \n",
      "TechLink  \n",
      "[Your Contact Information]  \n",
      "\n",
      "P.S. No cats were harmed in the making of this email—just motivated! 🐾"
     ]
    }
   ],
   "source": [
    "# Stream and display email content from an agent\n",
    "email_result = Runner.run_streamed(engaging_agent, input=\"Write a cold sales email\")\n",
    "async for event in email_result.stream_events():\n",
    "    if event.type == \"raw_response_event\" and isinstance(event.data, ResponseTextDeltaEvent):\n",
    "        print(event.data.delta, end=\"\", flush=True)"
   ]
  },
  {
   "cell_type": "code",
   "execution_count": 17,
   "id": "15406930",
   "metadata": {},
   "outputs": [
    {
     "name": "stdout",
     "output_type": "stream",
     "text": [
      "\n",
      "--- Email Option 1 ---\n",
      "Subject: Elevate Your Team’s Skills with AI-Driven Learning\n",
      "\n",
      "Dear [Recipient's Name],\n",
      "\n",
      "I hope this message finds you well. My name is [Your Name], and I represent TechLink, an innovative online education company dedicated to empowering professionals through AI-driven, career-focused learning programs.\n",
      "\n",
      "In today’s rapidly evolving job market, staying ahead means continuously upgrading skills and knowledge. At TechLink, we offer tailored learning solutions that not only equip your team with the latest industry-relevant skills but also empower them to thrive in an increasingly competitive landscape.\n",
      "\n",
      "Our programs feature:\n",
      "\n",
      "- **Personalized Learning Paths**: Adaptive courses designed to meet individual career goals.\n",
      "- **Real-World Applications**: Hands-on projects and case studies to ensure applicable skills.\n",
      "- **Expert-Led Instruction**: Insights from industry leaders who share relevant experience and wisdom.\n",
      "\n",
      "We’ve successfully partnered with organizations like [example company/industry], enabling their teams to significantly improve productivity and job satisfaction.\n",
      "\n",
      "I would love the opportunity to discuss how TechLink can support your team's growth and align with your organization’s goals. Would you be available for a brief call next week?\n",
      "\n",
      "Thank you for considering this opportunity. I look forward to hearing from you.\n",
      "\n",
      "Best regards,\n",
      "\n",
      "[Your Name]  \n",
      "[Your Title]  \n",
      "TechLink  \n",
      "[Your Phone Number]  \n",
      "[Your Email Address]  \n",
      "[Your Website]  \n",
      "\n",
      "\n",
      "--- Email Option 2 ---\n",
      "Subject: 🚀 Unlock Your Future (and Your Inner Tech Wizard)!\n",
      "\n",
      "Hey [First Name],\n",
      "\n",
      "Ever wondered why your laptop seems to be quieter than your boss during a conference call? 😄 \n",
      "\n",
      "At TechLink, we believe everyone deserves to be as tech-savvy as their devices—minus the occasional meltdown when the Wi-Fi goes down! Our AI-powered upskilling programs are tailored to transform you from a tech newbie into a digital powerhouse faster than you can say “404 error.”\n",
      "\n",
      "Whether you’re looking to ace that promotion, pivot your career, or simply impress your friends at the next dinner party (who doesn’t love a good data visualization anecdote?), we've got the perfect course for you.\n",
      "\n",
      "Want to know what makes our programs stand out? \n",
      "\n",
      "1. **AI-Powered Learning**: It’s like having a personal tutor who doesn’t judge your binge-watching habits. \n",
      "2. **Real-World Skills**: No fluff, just the good stuff to boost your career (and your confidence).\n",
      "3. **Flexible Schedules**: Learn at your own pace—perfect for those of us who need to juggle Netflix breaks.\n",
      "\n",
      "So, are you ready to unleash your inner tech wizard? Or at the very least, stop asking your 10-year-old niece for help with your computer?\n",
      "\n",
      "Hit reply if you’d like to learn more, or if you just need someone to share your tech woes with. I'm all ears!\n",
      "\n",
      "Best,\n",
      "[Your Name]  \n",
      "TechLink Sales Agent  \n",
      "P.S. Your laptop called… it wants you to get upskilled! 😉\n",
      "\n",
      "\n",
      "--- Email Option 3 ---\n",
      "Subject: Unlock Your Team’s Potential with AI-Powered Learning!\n",
      "\n",
      "Hi [Recipient's Name],\n",
      "\n",
      "I hope this email finds you well! I’m reaching out from TechLink because I believe we can help transform your team’s skills and productivity.\n",
      "\n",
      "Our AI-powered learning paths are designed to deliver personalized education that adapts to each learner’s pace and style. Imagine empowering your employees with the right skills at the right time—boosting efficiency and engagement!\n",
      "\n",
      "Would you be open to a quick call next week to explore how TechLink can drive growth for your team?\n",
      "\n",
      "Looking forward to connecting!\n",
      "\n",
      "Best,  \n",
      "[Your Name]  \n",
      "[Your Position]  \n",
      "TechLink  \n",
      "[Your Phone Number]  \n",
      "[Your LinkedIn Profile]  \n",
      "\n"
     ]
    }
   ],
   "source": [
    "import asyncio\n",
    "\n",
    "# The email topic or objective\n",
    "email_topic = \"Write a cold sales email\"\n",
    "\n",
    "# Run all sales agents concurrently to generate email variations\n",
    "agent_outputs = await asyncio.gather(\n",
    "    Runner.run(professional_agent,email_topic),\n",
    "    Runner.run(engaging_agent,email_topic),\n",
    "    Runner.run(concise_agent,email_topic),\n",
    ")\n",
    "\n",
    "# Extract the final text output from each agent\n",
    "cold_emails = [response.final_output for response in agent_outputs]\n",
    "\n",
    "# Display all generated emails\n",
    "for idx, email in enumerate(cold_emails, start=1):\n",
    "    print(f\"\\n--- Email Option {idx} ---\\n{email}\\n\")"
   ]
  },
  {
   "cell_type": "code",
   "execution_count": 20,
   "id": "06fa8cc0",
   "metadata": {},
   "outputs": [
    {
     "name": "stdout",
     "output_type": "stream",
     "text": [
      "\n",
      "Best Sales Email Selected:\n",
      "\n",
      "Subject: Transform Your Team's Skills with AI-Driven Learning\n",
      "\n",
      "Dear [Recipient's Name],\n",
      "\n",
      "I hope this message finds you well. My name is [Your Name], and I’m reaching out from TechLink, where we specialize in revolutionizing professional development through our AI-driven, career-focused learning programs.\n",
      "\n",
      "In today’s fast-evolving landscape, staying ahead of the curve is essential. We understand that your team’s growth is a priority and that continuous learning is crucial for maintaining a competitive edge. That’s where TechLink can make a significant impact.\n",
      "\n",
      "Our programs are tailored to meet the unique needs of professionals and educational institutions, offering:\n",
      "\n",
      "- **Personalized Learning Paths:** Our AI algorithms assess individual skill levels and recommend targeted courses, ensuring your team engages with the most relevant content.\n",
      "- **Career-Focused Curriculum:** Each program is designed to align with industry demands, equipping learners with the skills necessary to excel in their careers.\n",
      "- **Robust Support and Resources:** Our team of experts is available for ongoing support, ensuring that your learners are fully equipped to succeed.\n",
      "\n",
      "With organizations like [Example Client or Partner] seeing a [specific percentage or outcome] increase in productivity and employee satisfaction, the question isn’t whether to invest in your team’s development—but how quickly you can start.\n",
      "\n",
      "I would love to discuss how TechLink can help your organization thrive in this competitive environment. Are you available for a brief call next week? \n",
      "\n",
      "Thank you for your time, and I look forward to the possibility of working together.\n",
      "\n",
      "Best regards,\n",
      "\n",
      "[Your Name]  \n",
      "[Your Position]  \n",
      "TechLink  \n",
      "[Your Phone Number]  \n",
      "[Your Email Address]  \n",
      "[TechLink Website URL]  \n"
     ]
    }
   ],
   "source": [
    "# Create an evaluator agent to choose the most appealing email\n",
    "selector_prompt = (\n",
    "    \"You are a prospective customer receiving cold outreach emails. \"\n",
    "    \"Choose the email you're most likely to respond to, based solely on content. \"\n",
    "    \"Don't explain your choice—just return the best email as-is.\"\n",
    ")\n",
    "\n",
    "email_selector_agent = Agent(\n",
    "    name=\"Email Selector Agent\",\n",
    "    instructions=selector_prompt,\n",
    "    model=\"gpt-4o-mini\"\n",
    ")\n",
    "\n",
    "# Evaluate all email options and pick the most compelling one\n",
    "with trace(\"Evaluate & select best cold email\"):\n",
    "    agent_outputs = await asyncio.gather(\n",
    "        Runner.run(professional_agent,email_topic),\n",
    "        Runner.run(engaging_agent,email_topic),\n",
    "        Runner.run(concise_agent,email_topic),\n",
    "    )\n",
    "\n",
    "    # Extract email outputs\n",
    "    email_variants = [res.final_output for res in agent_outputs]\n",
    "\n",
    "    # Combine all into a single prompt for the selector agent\n",
    "    evaluation_prompt = \"Evaluate the following cold sales emails:\\n\\n\" + \"\\n\\n---\\n\\n\".join(email_variants)\n",
    "\n",
    "    # Run selector agent\n",
    "    selected_response = await Runner.run(email_selector_agent, evaluation_prompt)\n",
    "    \n",
    "    print(\"\\nBest Sales Email Selected:\\n\")\n",
    "    print(selected_response.final_output)\n",
    "\n"
   ]
  },
  {
   "cell_type": "markdown",
   "id": "28fb9e0f",
   "metadata": {},
   "source": [
    "Now go and check out the trace:\n",
    "\n",
    "https://platform.openai.com/traces"
   ]
  },
  {
   "cell_type": "markdown",
   "id": "bc35eeaf",
   "metadata": {},
   "source": [
    "## Use Agents and Function as Tool"
   ]
  },
  {
   "cell_type": "code",
   "execution_count": 21,
   "id": "13ae219d",
   "metadata": {},
   "outputs": [],
   "source": [
    "import sendgrid\n",
    "import os\n",
    "from sendgrid.helpers.mail import Email, To, Content, Mail\n",
    "from agents import function_tool, Agent, trace\n",
    "\n",
    "# Define a tool function to send an email\n",
    "@function_tool\n",
    "def send_sales_email(email_body: str):\n",
    "     \"\"\"Send the provided email body to the sales prospect.\"\"\"\n",
    "     sg = sendgrid.SendGridAPIClient(api_key=os.environ.get(\"SENDGRID_API_KEY\"))\n",
    "     sender = Email(\"anshulc55@gmail.com\")\n",
    "     recipient = To(\"anshulc55@icloud.com\")\n",
    "     content = Content(\"text/plain\", email_body)\n",
    "     email = Mail(sender, recipient, \"Cold Outreach from TechLink\", content).get()\n",
    "     response = sg.client.mail.send.post(request_body=email)\n",
    "     return {\"status\": \"sent\"}"
   ]
  },
  {
   "cell_type": "code",
   "execution_count": 22,
   "id": "b2629e8b",
   "metadata": {},
   "outputs": [
    {
     "data": {
      "text/plain": [
       "FunctionTool(name='send_sales_email', description='Send the provided email body to the sales prospect.', params_json_schema={'properties': {'email_body': {'title': 'Email Body', 'type': 'string'}}, 'required': ['email_body'], 'title': 'send_sales_email_args', 'type': 'object', 'additionalProperties': False}, on_invoke_tool=<function function_tool.<locals>._create_function_tool.<locals>._on_invoke_tool at 0x11ac63d80>, strict_json_schema=True)"
      ]
     },
     "execution_count": 22,
     "metadata": {},
     "output_type": "execute_result"
    }
   ],
   "source": [
    "send_sales_email"
   ]
  },
  {
   "cell_type": "markdown",
   "id": "fa18416f",
   "metadata": {},
   "source": [
    "### Convert Agents into Tools"
   ]
  },
  {
   "cell_type": "code",
   "execution_count": 23,
   "id": "d3f9bd58",
   "metadata": {},
   "outputs": [],
   "source": [
    "# Wrap agents as callable tools\n",
    "\n",
    "tool_pro = professional_agent.as_tool(\n",
    "    tool_name=\"professional_email_generator\",\n",
    "    tool_description=\"Generates a serious, professional cold email.\"\n",
    ")\n",
    "\n",
    "tool_fun = engaging_agent.as_tool(\n",
    "    tool_name=\"witty_email_generator\",\n",
    "    tool_description=\"Creates a humorous and engaging sales email.\"\n",
    ")\n",
    "\n",
    "tool_brief = concise_agent.as_tool(\n",
    "    tool_name=\"brief_email_generator\",\n",
    "    tool_description=\"Produces a short, direct sales email.\"\n",
    ")\n",
    "\n",
    "# Define the full toolset available to the manager agent\n",
    "toolset = [tool_pro, tool_fun, tool_brief, send_sales_email]\n"
   ]
  },
  {
   "cell_type": "markdown",
   "id": "9079bcfe",
   "metadata": {},
   "source": [
    "## Define the Sales Manager Agent with tool-based instructions"
   ]
  },
  {
   "cell_type": "code",
   "execution_count": 24,
   "id": "bb712a81",
   "metadata": {},
   "outputs": [],
   "source": [
    "# Sales Manager only uses tools — no email writing on its own\n",
    "manager_prompt = (\n",
    "    \"You are a sales manager at TechLink, responsible for outbound outreach. \"\n",
    "    \"You are provided with several email-writing tools, each with a unique style. \"\n",
    "    \"Your task is to try all three once, evaluate which email is the best for the user, \"\n",
    "    \"and then use the 'send_sales_email' tool to send only the best email. \"\n",
    "    \"Do NOT generate your own email — only use tools.\"\n",
    ")\n",
    "\n",
    "sales_manager_agent = Agent(\n",
    "    name=\"Sales Manager\",\n",
    "    instructions=manager_prompt,\n",
    "    tools=toolset,\n",
    "    model=\"gpt-4o-mini\"\n",
    ")\n",
    "\n",
    "# Use the Sales Manager to run the end-to-end orchestration\n",
    "message = \"Send a cold sales email addressed to 'Dear CEO'\"\n",
    "\n",
    "with trace(\"Sales Manager Workflow\"):\n",
    "    final_result = await Runner.run(sales_manager_agent, message)"
   ]
  },
  {
   "cell_type": "markdown",
   "id": "de630112",
   "metadata": {},
   "source": [
    "Now go and check out the trace:\n",
    "\n",
    "https://platform.openai.com/traces"
   ]
  },
  {
   "cell_type": "markdown",
   "id": "a817c3dd",
   "metadata": {},
   "source": [
    "### ⚠️ Wait — You Didn't Get an Email?\n",
    "\n",
    "> 🙏 Thanks to student **La Hui L.** for describing this issue and sharing helpful fixes.\n",
    "\n",
    "If your AI agent ran successfully, but you didn't receive an email, follow these steps to troubleshoot:\n",
    "\n",
    "---\n",
    "\n",
    "#### 🔍 Step-by-Step Troubleshooting:\n",
    "\n",
    "1. **Check Your Spam Folder**\n",
    "   - Many students found their emails in **Spam** or **Promotions** folders.\n",
    "   - Mark the email as \"Not Spam\" to ensure future delivery.\n",
    "\n",
    "2. **Print the Result Object**\n",
    "   - Run the following in your notebook:\n",
    "     ```python\n",
    "     print(result)\n",
    "     ```\n",
    "   - Look closely for any error messages, especially those related to **SSL** or **network issues**.\n",
    "\n",
    "3. **If You See SSL Errors**\n",
    "   - You may need to adjust networking settings on your local machine.\n",
    "   - Check out this helpful guide for common networking issues:  \n",
    "     🔗 [Networking Tips & Fixes](https://chatgpt.com/share/680620ec-3b30-8012-8c26-ca86693d0e3d)\n",
    "\n",
    "4. **Review Your OpenAI Trace**\n",
    "   - OpenAI’s dashboard provides trace logs — use them to inspect tool calls and failures.\n",
    "   - Look for `\"tool_call\"` or `\"tool_result\"` in the timeline for clues.\n",
    "\n",
    "5. **Check SendGrid Activity Logs**\n",
    "   - Visit [SendGrid Dashboard → Email Activity](https://app.sendgrid.com/email_activity)\n",
    "   - Look for bounce messages, failures, or blocks.\n",
    "   - Make sure your **sender email is verified**.\n",
    "\n",
    "---\n",
    "\n",
    "🧠 **Still Need Help?**\n",
    "\n",
    "- Post your error message in the course discussion board.\n",
    "- Share the output of `print(result)` or a screenshot (no credentials).\n",
    "- Your instructor is here to help!\n",
    "\n"
   ]
  },
  {
   "cell_type": "markdown",
   "id": "9e4d2639",
   "metadata": {},
   "source": [
    "### 💡 Extra Tip for Windows Users – SSL Certificate Error Fix\n",
    "\n",
    "If you're on **Windows** and encounter **SSL certificate errors** when sending emails using SendGrid, try this:\n",
    "\n",
    "---\n",
    "\n",
    "#### 🛠 Step-by-Step Fix:\n",
    "\n",
    "1. **Upgrade Certificate Bundle**  \n",
    "   Open your terminal and run:\n",
    "\n",
    "   ```bash\n",
    "   uv pip install --upgrade certifi\n"
   ]
  },
  {
   "cell_type": "code",
   "execution_count": null,
   "id": "6c5ddc28",
   "metadata": {},
   "outputs": [],
   "source": [
    "import certifi\n",
    "import os\n",
    "os.environ['SSL_CERT_FILE'] = certifi.where()"
   ]
  },
  {
   "cell_type": "markdown",
   "id": "9787d1cb",
   "metadata": {},
   "source": [
    "# HandOff Workflows"
   ]
  },
  {
   "cell_type": "code",
   "execution_count": 32,
   "id": "3fb5897a",
   "metadata": {},
   "outputs": [
    {
     "data": {
      "text/plain": [
       "[FunctionTool(name='generate_subject', description='Generate a cold email subject line.', params_json_schema={'properties': {'input': {'title': 'Input', 'type': 'string'}}, 'required': ['input'], 'title': 'generate_subject_args', 'type': 'object', 'additionalProperties': False}, on_invoke_tool=<function function_tool.<locals>._create_function_tool.<locals>._on_invoke_tool at 0x1198cb1a0>, strict_json_schema=True),\n",
       " FunctionTool(name='convert_to_html', description='Convert text email to HTML.', params_json_schema={'properties': {'input': {'title': 'Input', 'type': 'string'}}, 'required': ['input'], 'title': 'convert_to_html_args', 'type': 'object', 'additionalProperties': False}, on_invoke_tool=<function function_tool.<locals>._create_function_tool.<locals>._on_invoke_tool at 0x11b8f9f80>, strict_json_schema=True),\n",
       " FunctionTool(name='send_email', description='Send an HTML email with subject and body to the recipient list.', params_json_schema={'properties': {'subject': {'title': 'Subject', 'type': 'string'}, 'html_body': {'title': 'Html Body', 'type': 'string'}}, 'required': ['subject', 'html_body'], 'title': 'send_email_args', 'type': 'object', 'additionalProperties': False}, on_invoke_tool=<function function_tool.<locals>._create_function_tool.<locals>._on_invoke_tool at 0x11b8fa020>, strict_json_schema=True)]"
      ]
     },
     "execution_count": 32,
     "metadata": {},
     "output_type": "execute_result"
    }
   ],
   "source": [
    "from agents import Agent\n",
    "\n",
    "# Subject Line Generator\n",
    "subject_agent = Agent(\n",
    "    name=\"SubjectLineWriter\",\n",
    "    instructions=\"Generate a subject line for a cold email that improves open rates.\",\n",
    "    model=\"gpt-4o-mini\"\n",
    ")\n",
    "\n",
    "# HTML Converter Agent\n",
    "html_agent = Agent(\n",
    "    name=\"HTMLFormatter\",\n",
    "    instructions=\"Convert plain text emails into well-structured, visually clear HTML format.\",\n",
    "    model=\"gpt-4o-mini\"\n",
    ")\n",
    "\n",
    "subject_tool = subject_agent.as_tool(\n",
    "    tool_name=\"generate_subject\", \n",
    "    tool_description=\"Generate a cold email subject line.\"\n",
    "    )\n",
    "\n",
    "html_tool = html_agent.as_tool(\n",
    "    tool_name=\"convert_to_html\", \n",
    "    tool_description=\"Convert text email to HTML.\"\n",
    "    )\n",
    "\n",
    "# Function Tool to Send Email via SendGrid\n",
    "@function_tool\n",
    "def send_email(subject: str, html_body: str):\n",
    "     \"\"\"Send an HTML email with subject and body to the recipient list.\"\"\"\n",
    "     sg = sendgrid.SendGridAPIClient(api_key=os.environ.get(\"SENDGRID_API_KEY\"))\n",
    "     sender = Email(\"anshulc55@gmail.com\")\n",
    "     recipient = To(\"anshulc55@icloud.com\")\n",
    "     content = Content(\"text/html\", html_body)\n",
    "     email = Mail(sender, recipient, subject, content).get()\n",
    "     response = sg.client.mail.send.post(request_body=email)\n",
    "     return {\"status\": \"sent\"}\n",
    "\n",
    "# Combine all tools for formatting and sending\n",
    "email_formatter_tools = [subject_tool, html_tool, send_email]\n",
    "email_formatter_tools"
   ]
  },
  {
   "cell_type": "markdown",
   "id": "f4bcb372",
   "metadata": {},
   "source": [
    "### Create a Specialized Email Manager Agent (Handoff Target)"
   ]
  },
  {
   "cell_type": "code",
   "execution_count": 33,
   "id": "19f09e23",
   "metadata": {},
   "outputs": [],
   "source": [
    "email_manager_prompt = (\n",
    "        \"You are responsible for taking a raw email body and sending it out. \"\n",
    "        \"First, use the subject generator tool. Then, convert the email to HTML format. \"\n",
    "        \"Finally, use the send_email tool to deliver the message.\"\n",
    "    )\n",
    "\n",
    "# HandOff Agent\n",
    "email_manager_agent = Agent(\n",
    "    name=\"EmailManager\",\n",
    "    instructions=email_manager_prompt,\n",
    "    tools=email_formatter_tools,\n",
    "    model=\"gpt-4o-mini\",\n",
    "    handoff_description=\"Format and send an email using subject generation and HTML conversion.\"\n",
    ")\n",
    "\n",
    "\n",
    "# These are your content generators\n",
    "email_generator_tools = [tool_pro, tool_fun, tool_brief]"
   ]
  },
  {
   "cell_type": "markdown",
   "id": "483e4c7e",
   "metadata": {},
   "source": [
    "### Sales Manager Agent Using Both Tools & Handoff"
   ]
  },
  {
   "cell_type": "code",
   "execution_count": null,
   "id": "71b3d0e0",
   "metadata": {},
   "outputs": [],
   "source": [
    "# The Sales Manager Agent coordinates everything\n",
    "sales_manager_prompt = (\n",
    "        \"You are a sales manager tasked with sending the best possible cold email from your company TechLink. \"\n",
    "        \"Use the available email-writing tools to generate several options. \"\n",
    "        \"Choose the most persuasive email. Then, hand off to the EmailManager agent to format and send the email.\"\n",
    "    )\n",
    "\n",
    "sales_manager_agent = Agent(\n",
    "    name=\"SalesManager\",\n",
    "    instructions=sales_manager_prompt,\n",
    "    tools=email_generator_tools,\n",
    "    handoffs=[email_manager_agent],\n",
    "    model=\"gpt-4o-mini\"\n",
    ")\n",
    "\n",
    "# Run the Full Workflow\n",
    "prompt = \"Send out a cold sales email addressed to Dear CEO from Anshul.\"\n",
    "with trace(\"Automated Sales Email Flow\"):\n",
    "    result = await Runner.run(sales_manager_agent, prompt)\n"
   ]
  },
  {
   "cell_type": "markdown",
   "id": "7c9e3389",
   "metadata": {},
   "source": [
    "### Remember to check the trace\n",
    "\n",
    "https://platform.openai.com/traces\n",
    "\n",
    "And then check your email!!"
   ]
  },
  {
   "cell_type": "markdown",
   "id": "a576afff",
   "metadata": {},
   "source": [
    "## 📝 Note: Google’s Agent Development Kit (ADK)\n",
    "\n",
    "Google has recently announced their own **Agent Development Kit (ADK)** — currently in **early preview**.\n",
    "\n",
    "While it’s too soon to include ADK in this course (as it's still evolving), it's interesting to note how **similar its structure and concepts are** to OpenAI's Agents SDK.\n",
    "\n",
    "Here’s a quick peek at a sample ADK snippet from Google:\n",
    "\n",
    "```python\n",
    "root_agent = Agent(\n",
    "    name=\"weather_time_agent\",\n",
    "    model=\"gemini-2.0-flash\",\n",
    "    description=\"Agent to answer questions about the time and weather in a city.\",\n",
    "    instruction=\"You are a helpful agent who can answer user questions about the time and weather in a city.\",\n",
    "    tools=[get_weather, get_current_time]\n",
    ")\n"
   ]
  }
 ],
 "metadata": {
  "kernelspec": {
   "display_name": ".venv",
   "language": "python",
   "name": "python3"
  },
  "language_info": {
   "codemirror_mode": {
    "name": "ipython",
    "version": 3
   },
   "file_extension": ".py",
   "mimetype": "text/x-python",
   "name": "python",
   "nbconvert_exporter": "python",
   "pygments_lexer": "ipython3",
   "version": "3.12.4"
  }
 },
 "nbformat": 4,
 "nbformat_minor": 5
}
