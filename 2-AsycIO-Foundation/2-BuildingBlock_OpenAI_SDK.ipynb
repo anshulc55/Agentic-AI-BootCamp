{
 "cells": [
  {
   "cell_type": "markdown",
   "id": "65ba305d",
   "metadata": {},
   "source": [
    "# Building Blocks of OpenAI Agent SDK"
   ]
  },
  {
   "cell_type": "markdown",
   "id": "9250770e",
   "metadata": {},
   "source": [
    "### Agents\n",
    "An agent is a large language model (LLM), configured with instructions and tools."
   ]
  },
  {
   "cell_type": "code",
   "execution_count": 1,
   "id": "f8dc0bc5",
   "metadata": {},
   "outputs": [
    {
     "data": {
      "text/plain": [
       "True"
      ]
     },
     "execution_count": 1,
     "metadata": {},
     "output_type": "execute_result"
    }
   ],
   "source": [
    "from dotenv import load_dotenv\n",
    "\n",
    "load_dotenv(override=True)"
   ]
  },
  {
   "cell_type": "code",
   "execution_count": 12,
   "id": "63d8abc8",
   "metadata": {},
   "outputs": [],
   "source": [
    "from agents import Agent, Runner, trace\n",
    "\n",
    "instruction = \"You provide help with History problems. Explain your Answer with Reference\"\n",
    "custom_agent = Agent(name=\"History Tutor\", instructions=instruction, model=\"gpt-4o-mini\")"
   ]
  },
  {
   "cell_type": "markdown",
   "id": "bfe19a01",
   "metadata": {},
   "source": [
    "### Run the agent"
   ]
  },
  {
   "cell_type": "code",
   "execution_count": 9,
   "id": "ccf3eeba",
   "metadata": {},
   "outputs": [
    {
     "name": "stdout",
     "output_type": "stream",
     "text": [
      "The title of \"First King of India\" is often attributed to Chandragupta Maurya, the founder of the Maurya Empire around the 4th century BCE. He unified a large part of the Indian subcontinent and established a centralized administration.\n",
      "\n",
      "Chandragupta was guided by his mentor Chanakya (Kautilya), who helped him overthrow the Nanda Dynasty and laid the foundations for a vast empire. This marked a significant shift in the political landscape of ancient India.\n",
      "\n",
      "In a broader historical context, some might consider earlier rulers or chieftains as kings in their regions, but Chandragupta is credited with establishing the first significant empire in India, which set the stage for the development of later kingdoms and dynasties.\n",
      "\n",
      "For more information, you can refer to ancient texts like the \"Arthashastra\" by Chanakya and various historical accounts from texts like the \"Mahabharata\" and records by later historians.\n"
     ]
    }
   ],
   "source": [
    "runner = await Runner.run(custom_agent, \"Who was the First King of India?\")\n",
    "print(runner.final_output)"
   ]
  },
  {
   "cell_type": "markdown",
   "id": "77c027e9",
   "metadata": {},
   "source": [
    "### Trace – Execution Log"
   ]
  },
  {
   "cell_type": "code",
   "execution_count": 13,
   "id": "6ade0666",
   "metadata": {},
   "outputs": [
    {
     "name": "stdout",
     "output_type": "stream",
     "text": [
      "The first country to invade another country in World War II was Germany. On September 1, 1939, Germany invaded Poland, marking the official start of the war in Europe. This invasion was characterized by a rapid military strategy known as Blitzkrieg, which emphasized speed and surprise. The invasion prompted Britain and France to declare war on Germany on September 3, 1939, in defense of Poland.\n",
      "\n",
      "Historically, this conflict arose from the aggressive expansionist policies of Adolf Hitler and the Nazi regime, which aimed to overturn the Treaty of Versailles and expand German territory. The invasion of Poland not only triggered Britain's and France's involvement but also set in motion a series of events that would lead to a global conflict, involving numerous countries around the world.\n"
     ]
    }
   ],
   "source": [
    "with trace(\"History Agent\"):\n",
    "    runner = await Runner.run(custom_agent, \"Which is the Country Jumped first in World War 2\")\n",
    "    print(runner.final_output)"
   ]
  }
 ],
 "metadata": {
  "kernelspec": {
   "display_name": ".venv",
   "language": "python",
   "name": "python3"
  },
  "language_info": {
   "codemirror_mode": {
    "name": "ipython",
    "version": 3
   },
   "file_extension": ".py",
   "mimetype": "text/x-python",
   "name": "python",
   "nbconvert_exporter": "python",
   "pygments_lexer": "ipython3",
   "version": "3.12.4"
  }
 },
 "nbformat": 4,
 "nbformat_minor": 5
}
