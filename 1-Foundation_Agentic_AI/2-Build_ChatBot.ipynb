{
 "cells": [
  {
   "cell_type": "markdown",
   "id": "ad7fd863",
   "metadata": {},
   "source": [
    "# Building Chatbot Which will Answer on Behalf of me"
   ]
  },
  {
   "cell_type": "code",
   "execution_count": 36,
   "id": "3dccb385",
   "metadata": {},
   "outputs": [],
   "source": [
    "# Create A Chatbot . Install all Required Packages\n",
    "\n",
    "from dotenv import load_dotenv\n",
    "from openai import OpenAI\n",
    "from IPython.display import Markdown, display\n",
    "from pypdf import PdfReader\n",
    "import gradio as gr\n",
    "from pathlib import Path"
   ]
  },
  {
   "cell_type": "code",
   "execution_count": 37,
   "id": "3b067c2f",
   "metadata": {},
   "outputs": [],
   "source": [
    "# Read Project Root Path\n",
    "# Set the root (commonly use __file__ or manually define)\n",
    "project_root = Path.cwd().parent\n",
    "\n",
    "#print(project_root)"
   ]
  },
  {
   "cell_type": "code",
   "execution_count": 38,
   "id": "4daeb7bb",
   "metadata": {},
   "outputs": [],
   "source": [
    "# Read the Profile PDF\n",
    "filePath = project_root / \"Resourses\" / \"Profile.pdf\"\n",
    "pdfReader = PdfReader(filePath)\n",
    "prof_summary = \"\"\n",
    "for page in pdfReader.pages:\n",
    "    text = page.extract_text()\n",
    "    if text:\n",
    "        prof_summary += text\n",
    "\n",
    "#print(prof_summary)"
   ]
  },
  {
   "cell_type": "code",
   "execution_count": 39,
   "id": "bbf7d20e",
   "metadata": {},
   "outputs": [],
   "source": [
    "# Read Summary file\n",
    "summ_filePath = project_root / \"Resourses\" / \"Summary.txt\"\n",
    "with open(summ_filePath, \"r\", encoding=\"utf-8\") as f:\n",
    "    summary = f.read()\n",
    "\n",
    "#print(summary)"
   ]
  },
  {
   "cell_type": "code",
   "execution_count": 40,
   "id": "7dd713d2",
   "metadata": {},
   "outputs": [
    {
     "name": "stdout",
     "output_type": "stream",
     "text": [
      "OpenAI API Key exists and begins sk-ba892fdbe19\n"
     ]
    }
   ],
   "source": [
    "# Load Environment Varaible\n",
    "load_dotenv(override=True)\n",
    "\n",
    "import os\n",
    "\n",
    "openai_api_key=os.getenv('API_TOKEN')\n",
    "deepseek_base_URL = \"https://api.deepseek.com\"\n",
    "openai_client = OpenAI(api_key=openai_api_key, base_url=deepseek_base_URL)\n",
    "\n",
    "if openai_api_key:\n",
    "    print(f\"OpenAI API Key exists and begins {openai_api_key[:14]}\")\n",
    "else:\n",
    "    print(\"OpenAI API Key not set - please head to the troubleshooting guide in the setup folder\")"
   ]
  },
  {
   "cell_type": "code",
   "execution_count": 41,
   "id": "2a561df9",
   "metadata": {},
   "outputs": [],
   "source": [
    "# System Prompt\n",
    "name = \"Parag Agrawal\"\n",
    "\n",
    "system_prompt = (\n",
    "    f\"You are acting as {name}, representing {name} on their website. \"\n",
    "    f\"Your role is to answer questions specifically about {name}'s career, background, skills, and experience. \"\n",
    "    f\"You must faithfully and accurately portray {name} in all interactions. \"\n",
    "    f\"You have access to a detailed summary of {name}'s background and their LinkedIn profile, which you should use to inform your answers. \"\n",
    "    f\"Maintain a professional, engaging, and approachable tone, as if you are speaking to a potential client or future employer visiting the site. \"\n",
    "    f\"If you are unsure of an answer, it is better to honestly acknowledge that than to guess.\"\n",
    "\n",
    "    f\"\\n\\n## Summary:\\n{summary}\\n\\n## LinkedIn Profile:\\n{prof_summary}\\n\\n\"\n",
    "    f\"Using this context, please converse naturally and consistently, always staying in character as {name}.\"\n",
    ")\n",
    "#system_prompt"
   ]
  },
  {
   "cell_type": "code",
   "execution_count": 42,
   "id": "6639981d",
   "metadata": {},
   "outputs": [],
   "source": [
    "# Create a Chatbot\n",
    "def liveChat(message, history):\n",
    "    messages=[{\"role\": \"system\", \"content\": system_prompt}] + history + [{\"role\": \"user\", \"content\": message}]\n",
    "    \n",
    "    response = openai_client.chat.completions.create(\n",
    "        model=\"deepseek-chat\",\n",
    "        messages=messages,\n",
    "        stream=False\n",
    "    )\n",
    "    \n",
    "    return response.choices[0].message.content"
   ]
  },
  {
   "cell_type": "code",
   "execution_count": 43,
   "id": "5217f021",
   "metadata": {},
   "outputs": [
    {
     "name": "stdout",
     "output_type": "stream",
     "text": [
      "* Running on local URL:  http://127.0.0.1:7861\n",
      "* To create a public link, set `share=True` in `launch()`.\n"
     ]
    },
    {
     "data": {
      "text/html": [
       "<div><iframe src=\"http://127.0.0.1:7861/\" width=\"100%\" height=\"500\" allow=\"autoplay; camera; microphone; clipboard-read; clipboard-write;\" frameborder=\"0\" allowfullscreen></iframe></div>"
      ],
      "text/plain": [
       "<IPython.core.display.HTML object>"
      ]
     },
     "metadata": {},
     "output_type": "display_data"
    },
    {
     "data": {
      "text/plain": []
     },
     "execution_count": 43,
     "metadata": {},
     "output_type": "execute_result"
    }
   ],
   "source": [
    "gr.ChatInterface(liveChat, type=\"messages\").launch()"
   ]
  }
 ],
 "metadata": {
  "kernelspec": {
   "display_name": ".venv",
   "language": "python",
   "name": "python3"
  },
  "language_info": {
   "codemirror_mode": {
    "name": "ipython",
    "version": 3
   },
   "file_extension": ".py",
   "mimetype": "text/x-python",
   "name": "python",
   "nbconvert_exporter": "python",
   "pygments_lexer": "ipython3",
   "version": "3.12.4"
  }
 },
 "nbformat": 4,
 "nbformat_minor": 5
}
