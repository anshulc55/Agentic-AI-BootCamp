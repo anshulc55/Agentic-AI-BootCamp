{
 "cells": [
  {
   "cell_type": "markdown",
   "id": "e9e94f0d",
   "metadata": {},
   "source": [
    "# Multi-Model Integration: Using Gemini, DeepSeek & Groq with OpenAI Agents"
   ]
  },
  {
   "cell_type": "code",
   "execution_count": 38,
   "id": "57ba8479",
   "metadata": {},
   "outputs": [
    {
     "name": "stdout",
     "output_type": "stream",
     "text": [
      "Openai API Key loaded: sk-proj-oR...\n",
      "Google API Key loaded: AIzaSyAd8c...\n",
      "Deepseek API Key loaded: sk-ba892fd...\n",
      "Groq API Key loaded: gsk_Le5WL7...\n"
     ]
    }
   ],
   "source": [
    "# Libraries and Imports\n",
    "from dotenv import load_dotenv\n",
    "from agents import Agent, Runner, trace, function_tool, OpenAIChatCompletionsModel\n",
    "from openai.types.responses import ResponseTextDeltaEvent\n",
    "from openai import AsyncOpenAI\n",
    "import sendgrid\n",
    "import os\n",
    "from sendgrid.helpers.mail import Email, To, Content, Mail\n",
    "\n",
    "# Load environment variables\n",
    "load_dotenv(override=True)\n",
    "\n",
    "# Load API Keys and Verify\n",
    "api_keys = {\n",
    "    \"openai\": os.getenv('OPENAI_API_KEY'),\n",
    "    \"google\": os.getenv('GEMINI_API_KEY'),\n",
    "    \"deepseek\": os.getenv('DEEPSEEK_API_KEY'),\n",
    "    \"groq\": os.getenv('GROQ_API_KEY')\n",
    "}\n",
    "\n",
    "for provider, key in api_keys.items():\n",
    "    if key:\n",
    "        print(f\"{provider.title()} API Key loaded: {key[:10]}...\")\n",
    "    else:\n",
    "        print(f\"{provider.title()} API Key missing.\")"
   ]
  },
  {
   "cell_type": "markdown",
   "id": "3039676c",
   "metadata": {},
   "source": [
    "### Define Sales Agent Personas"
   ]
  },
  {
   "cell_type": "code",
   "execution_count": 39,
   "id": "433ed5d5",
   "metadata": {},
   "outputs": [],
   "source": [
    "# Personalized agent instructions\n",
    "agent_styles = {\n",
    "    \"direct\": \"You write serious, clear, and professional sales emails for SOC2 compliance solutions.\",\n",
    "    \"witty\": \"You write humorous, attention-grabbing emails for SOC2 compliance tools.\",\n",
    "    \"concise\": \"You write minimal, punchy cold emails ideal for busy executives.\"\n",
    "}"
   ]
  },
  {
   "cell_type": "markdown",
   "id": "1c805d20",
   "metadata": {},
   "source": [
    "### Initialize Multi-Model Clients"
   ]
  },
  {
   "cell_type": "code",
   "execution_count": 40,
   "id": "67efc0ad",
   "metadata": {},
   "outputs": [],
   "source": [
    "# Base URLs for LLMs\n",
    "MODEL_BASE_URLS = {\n",
    "    \"gemini\": \"https://generativelanguage.googleapis.com/v1beta/openai/\",\n",
    "    \"deepseek\": \"https://api.deepseek.com/v1\",\n",
    "    \"groq\": \"https://api.groq.com/openai/v1\"\n",
    "}\n",
    "\n",
    "# Create Agent Clients\n",
    "model_clients = {\n",
    "    \"gemini\": AsyncOpenAI(base_url=MODEL_BASE_URLS[\"gemini\"], api_key=api_keys[\"google\"]),\n",
    "    \"deepseek\": AsyncOpenAI(base_url=MODEL_BASE_URLS[\"deepseek\"], api_key=api_keys[\"deepseek\"]),\n",
    "    \"groq\": AsyncOpenAI(base_url=MODEL_BASE_URLS[\"groq\"], api_key=api_keys[\"groq\"])\n",
    "}"
   ]
  },
  {
   "cell_type": "markdown",
   "id": "a1d0830b",
   "metadata": {},
   "source": [
    "### Build Model-Specific Agents"
   ]
  },
  {
   "cell_type": "code",
   "execution_count": 41,
   "id": "d34e8147",
   "metadata": {},
   "outputs": [
    {
     "data": {
      "text/plain": [
       "[FunctionTool(name='gemini_agent_tool', description='Generate a cold outreach email for a SaaS compliance product.', params_json_schema={'properties': {'input': {'title': 'Input', 'type': 'string'}}, 'required': ['input'], 'title': 'gemini_agent_tool_args', 'type': 'object', 'additionalProperties': False}, on_invoke_tool=<function function_tool.<locals>._create_function_tool.<locals>._on_invoke_tool at 0x129790a40>, strict_json_schema=True),\n",
       " FunctionTool(name='deepseek_agent_tool', description='Generate a cold outreach email for a SaaS compliance product.', params_json_schema={'properties': {'input': {'title': 'Input', 'type': 'string'}}, 'required': ['input'], 'title': 'deepseek_agent_tool_args', 'type': 'object', 'additionalProperties': False}, on_invoke_tool=<function function_tool.<locals>._create_function_tool.<locals>._on_invoke_tool at 0x129790e00>, strict_json_schema=True),\n",
       " FunctionTool(name='groq_agent_tool', description='Generate a cold outreach email for a SaaS compliance product.', params_json_schema={'properties': {'input': {'title': 'Input', 'type': 'string'}}, 'required': ['input'], 'title': 'groq_agent_tool_args', 'type': 'object', 'additionalProperties': False}, on_invoke_tool=<function function_tool.<locals>._create_function_tool.<locals>._on_invoke_tool at 0x129790900>, strict_json_schema=True)]"
      ]
     },
     "execution_count": 41,
     "metadata": {},
     "output_type": "execute_result"
    }
   ],
   "source": [
    "# Create the Agents of LLMs\n",
    "agent_models = {\n",
    "    \"gemini\": OpenAIChatCompletionsModel(\"gemini-2.0-flash\", model_clients[\"gemini\"]),\n",
    "    \"deepseek\": OpenAIChatCompletionsModel(\"deepseek-chat\", model_clients[\"deepseek\"]),\n",
    "    \"llama3\": OpenAIChatCompletionsModel(\"llama-3.3-70b-versatile\", model_clients[\"groq\"]),\n",
    "}\n",
    "\n",
    "# Sales Agents - Multi LLM Model Based\n",
    "sales_agents = [\n",
    "    Agent(name=\"Gemini Agent\", instructions=agent_styles[\"witty\"], model=agent_models[\"gemini\"]),\n",
    "    Agent(name=\"DeepSeek Agent\", instructions=agent_styles[\"direct\"], model=agent_models[\"deepseek\"]),\n",
    "    Agent(name=\"Groq Agent\", instructions=agent_styles[\"concise\"], model=agent_models[\"llama3\"])\n",
    "]\n",
    "\n",
    "# Convert agents to tools\n",
    "email_task_description = \"Generate a cold outreach email for a SaaS compliance product.\"\n",
    "agent_tools = [\n",
    "    agent.as_tool(tool_name=f\"{agent.name.lower().replace(' ', '_')}_tool\", tool_description=email_task_description)\n",
    "    for agent in sales_agents\n",
    "]\n",
    "\n",
    "agent_tools"
   ]
  },
  {
   "cell_type": "markdown",
   "id": "e453c9f9",
   "metadata": {},
   "source": [
    "## Email Formatting & Sending Utilities"
   ]
  },
  {
   "cell_type": "markdown",
   "id": "934ba3fe",
   "metadata": {},
   "source": [
    "#### Tool: SendGrid Email Sender"
   ]
  },
  {
   "cell_type": "code",
   "execution_count": 42,
   "id": "2f9ad61f",
   "metadata": {},
   "outputs": [],
   "source": [
    "# Function Tool to Send Email via SendGrid\n",
    "@function_tool\n",
    "def send_email(subject: str, html_body: str):\n",
    "     \"\"\"Send an HTML email with subject and body to the recipient list.\"\"\"\n",
    "     sg = sendgrid.SendGridAPIClient(api_key=os.environ.get(\"SENDGRID_API_KEY\"))\n",
    "     sender = Email(\"anshulc55@gmail.com\")\n",
    "     recipient = To(\"anshulc55@icloud.com\")\n",
    "     content = Content(\"text/html\", html_body)\n",
    "     email = Mail(sender, recipient, subject, content).get()\n",
    "     response = sg.client.mail.send.post(request_body=email)\n",
    "     return {\"status\": \"Success\" , \"code\": response.status_code}"
   ]
  },
  {
   "cell_type": "markdown",
   "id": "5fe06b69",
   "metadata": {},
   "source": [
    "#### Utility Agents"
   ]
  },
  {
   "cell_type": "code",
   "execution_count": 43,
   "id": "c5a8da8f",
   "metadata": {},
   "outputs": [],
   "source": [
    "# Subject Line Generator\n",
    "subject_agent = Agent(\n",
    "    name=\"Subject Line Creator\",\n",
    "    instructions=\"Write catchy subject lines for cold outreach emails.\",\n",
    "    model=\"gpt-4o-mini\"\n",
    ")\n",
    "subject_tool = subject_agent.as_tool(\"subject_writer\", \"Generate a catchy email subject line\")\n",
    "\n",
    "# HTML Formatter\n",
    "html_agent = Agent(\n",
    "    name=\"HTML Formatter\",\n",
    "    instructions=\"Convert plain text emails (with markdown) to clean HTML layouts.\",\n",
    "    model=\"gpt-4o-mini\"\n",
    ")\n",
    "html_tool = html_agent.as_tool(\"html_converter\", \"Convert plain text email to HTML\")"
   ]
  },
  {
   "cell_type": "markdown",
   "id": "25bea3c3",
   "metadata": {},
   "source": [
    "### Email Orchestration Agent"
   ]
  },
  {
   "cell_type": "code",
   "execution_count": 44,
   "id": "18924a96",
   "metadata": {},
   "outputs": [],
   "source": [
    "email_utilities = [subject_tool, html_tool, send_email]\n",
    "\n",
    "email_formatter = Agent(\n",
    "    name=\"Email Orchestrator\",\n",
    "    instructions=\"Take a plain email body, generate a subject, convert to HTML, and send it.\",\n",
    "    tools=email_utilities,\n",
    "    model=\"gpt-4o-mini\",\n",
    "    handoff_description=\"Format and send the final sales email\"\n",
    ")"
   ]
  },
  {
   "cell_type": "markdown",
   "id": "b510407b",
   "metadata": {},
   "source": [
    "### Sales Manager Agent: Multi-Model Integration"
   ]
  },
  {
   "cell_type": "code",
   "execution_count": 45,
   "id": "a37debe8",
   "metadata": {},
   "outputs": [],
   "source": [
    "manager_instructions = \"\"\"You are a sales manager for TechLink. Your job is to:\n",
    "1. Try all available sales agents at least once.\n",
    "2. Evaluate the quality of their emails.\n",
    "3. Choose the most effective email.\n",
    "4. Hand off to the Email Orchestrator agent for formatting and sending.\"\"\"\n",
    "\n",
    "sales_manager = Agent(\n",
    "    name=\"Sales Manager\",\n",
    "    instructions=manager_instructions,\n",
    "    tools=agent_tools,\n",
    "    handoffs=[email_formatter],\n",
    "    model=\"gpt-4o-mini\"\n",
    ")"
   ]
  },
  {
   "cell_type": "markdown",
   "id": "54352a7d",
   "metadata": {},
   "source": [
    "## Execution and Tracing"
   ]
  },
  {
   "cell_type": "code",
   "execution_count": 46,
   "id": "bc923a2d",
   "metadata": {},
   "outputs": [],
   "source": [
    "message = \"Send out a cold sales email addressed to Dear CEO from Alice\"\n",
    "\n",
    "with trace(\"Multi-Model Sales Email Automation\"):\n",
    "    result = await Runner.run(sales_manager, message)"
   ]
  },
  {
   "cell_type": "markdown",
   "id": "3611dfff",
   "metadata": {},
   "source": [
    "### Check out the trace:\n",
    "\n",
    "https://platform.openai.com/traces"
   ]
  }
 ],
 "metadata": {
  "kernelspec": {
   "display_name": ".venv",
   "language": "python",
   "name": "python3"
  },
  "language_info": {
   "codemirror_mode": {
    "name": "ipython",
    "version": 3
   },
   "file_extension": ".py",
   "mimetype": "text/x-python",
   "name": "python",
   "nbconvert_exporter": "python",
   "pygments_lexer": "ipython3",
   "version": "3.12.4"
  }
 },
 "nbformat": 4,
 "nbformat_minor": 5
}
