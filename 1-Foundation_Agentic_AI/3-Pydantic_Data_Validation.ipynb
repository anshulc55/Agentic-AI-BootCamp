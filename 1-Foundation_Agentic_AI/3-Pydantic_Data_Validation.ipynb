{
 "cells": [
  {
   "cell_type": "markdown",
   "id": "b98b7c76",
   "metadata": {},
   "source": [
    "# Pydantic Data Validation Example"
   ]
  },
  {
   "cell_type": "code",
   "execution_count": 29,
   "id": "05522c48",
   "metadata": {},
   "outputs": [
    {
     "name": "stdout",
     "output_type": "stream",
     "text": [
      "id=1 name='Anshul'\n"
     ]
    }
   ],
   "source": [
    "from pydantic import BaseModel\n",
    "\n",
    "# Validate the User Data\n",
    "class User(BaseModel):\n",
    "    id: int\n",
    "    name: str\n",
    "\n",
    "\n",
    "usr = User(id=1, name=\"Anshul\")\n",
    "print(usr)"
   ]
  },
  {
   "cell_type": "code",
   "execution_count": 30,
   "id": "71f292d4",
   "metadata": {},
   "outputs": [
    {
     "name": "stdout",
     "output_type": "stream",
     "text": [
      "id=2 name='Peter' signup_ts=None salary=50000.0\n"
     ]
    }
   ],
   "source": [
    "# Use Default Values\n",
    "class User(BaseModel):\n",
    "    id: int\n",
    "    name: str\n",
    "    signup_ts: str | None = None\n",
    "    salary: float | None = None\n",
    "\n",
    "usr1 = User(id=\"2\", name=\"Peter\", salary=50000)\n",
    "print(usr1)"
   ]
  },
  {
   "cell_type": "code",
   "execution_count": 31,
   "id": "73baf5fa",
   "metadata": {},
   "outputs": [
    {
     "name": "stdout",
     "output_type": "stream",
     "text": [
      "User(id='2', name='Peter', signup_ts=None, salary=50000)\n"
     ]
    }
   ],
   "source": [
    "from dataclasses import dataclass\n",
    "\n",
    "@dataclass\n",
    "class User():\n",
    "    id: int\n",
    "    name: str\n",
    "    signup_ts: str | None = None\n",
    "    salary: float | None = None\n",
    "\n",
    "usr2 = User(id=\"2\", name=\"Peter\", salary=50000)\n",
    "print(usr2)"
   ]
  },
  {
   "cell_type": "markdown",
   "id": "6ecf7790",
   "metadata": {},
   "source": [
    "## Scenario: User Registration API Input"
   ]
  },
  {
   "cell_type": "code",
   "execution_count": 32,
   "id": "6afb35ca",
   "metadata": {},
   "outputs": [
    {
     "data": {
      "text/plain": [
       "{'username': 'johndoe',\n",
       " 'password': 'secret123',\n",
       " 'email': 'john@example.com',\n",
       " 'age': '30',\n",
       " 'join_date': '2025-01-01'}"
      ]
     },
     "execution_count": 32,
     "metadata": {},
     "output_type": "execute_result"
    }
   ],
   "source": [
    "# You're building a backend service that receives JSON payloads from a front-end form:\n",
    "\n",
    "{\n",
    "  \"username\": \"johndoe\",\n",
    "  \"password\": \"secret123\",\n",
    "  \"email\": \"john@example.com\",\n",
    "  \"age\": \"30\",\n",
    "  \"join_date\": \"2025-01-01\"\n",
    "}"
   ]
  },
  {
   "cell_type": "markdown",
   "id": "be4a066f",
   "metadata": {},
   "source": [
    "### You need to:\n",
    "\n",
    "- Validate the email format\n",
    "\n",
    "- Ensure age is a positive integer\n",
    "\n",
    "- Ensure password meets minimum length requirements\n",
    "\n",
    "- Convert \"30\" to integer\n",
    "\n",
    "- Parse \"2025-01-01\" into a datetime.date"
   ]
  },
  {
   "cell_type": "code",
   "execution_count": 33,
   "id": "17166946",
   "metadata": {},
   "outputs": [
    {
     "name": "stderr",
     "output_type": "stream",
     "text": [
      "/Users/anshul/Training/Agentic_AI_BootCamp/.venv/lib/python3.12/site-packages/pydantic/_internal/_model_construction.py:63: UserWarning: `validate_age` overrides an existing Pydantic `@field_validator` decorator\n",
      "  warnings.warn(f'`{k}` overrides an existing Pydantic `{existing.decorator_info.decorator_repr}` decorator')\n"
     ]
    }
   ],
   "source": [
    "from pydantic import BaseModel, EmailStr, field_validator, ValidationError\n",
    "from datetime import date\n",
    "\n",
    "class UserRegistration(BaseModel):\n",
    "    username: str\n",
    "    password: str\n",
    "    email: EmailStr\n",
    "    age: int\n",
    "    join_date: date\n",
    "\n",
    "    @field_validator(\"age\", mode='after')\n",
    "    @classmethod\n",
    "    def validate_age(cls, value):\n",
    "        if value < 0:\n",
    "            raise ValueError(\"Age must be positive\")\n",
    "        return value\n",
    "    \n",
    "    @field_validator(\"password\",  mode='after')\n",
    "    @classmethod\n",
    "    def validate_age(cls, value):\n",
    "        if len(value) < 10:\n",
    "            raise ValueError(\"Password must be at least 10 characters long\")\n",
    "        return value"
   ]
  },
  {
   "cell_type": "code",
   "execution_count": 34,
   "id": "f731e8f5",
   "metadata": {},
   "outputs": [
    {
     "name": "stdout",
     "output_type": "stream",
     "text": [
      "JSON output: {\"username\":\"johndoe\",\"password\":\"secret123456789\",\"email\":\"john@example.com\",\"age\":30,\"join_date\":\"2023-01-01\"}\n"
     ]
    }
   ],
   "source": [
    "# Simulate incoming JSON\n",
    "incoming_data = {\n",
    "    \"username\": \"johndoe\",\n",
    "    \"password\": \"secret123456789\",\n",
    "    \"email\": \"john@example.com\",\n",
    "    \"age\": \"30\",              \n",
    "    \"join_date\": \"2023-01-01\" \n",
    "}\n",
    "\n",
    "try:\n",
    "    user = UserRegistration(**incoming_data)\n",
    "    #print(user)\n",
    "    print(\"JSON output:\", user.model_dump_json())\n",
    "except ValidationError as e:\n",
    "    print(\"❌ Validation Error:\")\n",
    "    print(e)\n",
    "    "
   ]
  },
  {
   "cell_type": "markdown",
   "id": "f4f44038",
   "metadata": {},
   "source": [
    "### Nested Models"
   ]
  },
  {
   "cell_type": "code",
   "execution_count": 35,
   "id": "89c83d0e",
   "metadata": {},
   "outputs": [
    {
     "name": "stdout",
     "output_type": "stream",
     "text": [
      "JSON output: {\"username\":\"johndoe\",\"password\":\"secret123534323\",\"email\":\"john@example.com\",\"age\":30,\"join_date\":\"2025-01-01\",\"address\":{\"street\":\"123 Main St\",\"city\":\"New York\",\"zip_code\":\"10001\"}}\n"
     ]
    }
   ],
   "source": [
    "class Address(BaseModel):\n",
    "    street: str\n",
    "    city: str\n",
    "    zip_code: str\n",
    "\n",
    "class UserRegistrationWithAddress(UserRegistration):\n",
    "    address: Address\n",
    "\n",
    "incoming_data = {\n",
    "    \"username\": \"johndoe\",\n",
    "    \"password\": \"secret123534323\",\n",
    "    \"email\": \"john@example.com\",\n",
    "    \"age\": \"30\",\n",
    "    \"join_date\": \"2025-01-01\",\n",
    "    \"address\": {\n",
    "        \"street\": \"123 Main St\",\n",
    "        \"city\": \"New York\",\n",
    "        \"zip_code\": \"10001\"\n",
    "    }\n",
    "}\n",
    "\n",
    "try:\n",
    "    userWithAdd = UserRegistrationWithAddress(**incoming_data)\n",
    "    #print(user)\n",
    "    print(\"JSON output:\", userWithAdd.model_dump_json())\n",
    "except ValidationError as e:\n",
    "    print(\"❌ Validation Error:\")\n",
    "    print(e)\n",
    "    "
   ]
  }
 ],
 "metadata": {
  "kernelspec": {
   "display_name": ".venv",
   "language": "python",
   "name": "python3"
  },
  "language_info": {
   "codemirror_mode": {
    "name": "ipython",
    "version": 3
   },
   "file_extension": ".py",
   "mimetype": "text/x-python",
   "name": "python",
   "nbconvert_exporter": "python",
   "pygments_lexer": "ipython3",
   "version": "3.12.4"
  }
 },
 "nbformat": 4,
 "nbformat_minor": 5
}
