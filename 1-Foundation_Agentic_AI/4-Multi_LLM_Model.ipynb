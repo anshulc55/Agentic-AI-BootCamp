{
 "cells": [
  {
   "cell_type": "markdown",
   "id": "4f29ddfa",
   "metadata": {},
   "source": [
    "# Building Multi LLM Model - Evaluator - Optimizer Model"
   ]
  },
  {
   "cell_type": "code",
   "execution_count": 41,
   "id": "a7de18bc",
   "metadata": {},
   "outputs": [],
   "source": [
    "from dotenv import load_dotenv\n",
    "from openai import OpenAI\n",
    "from IPython.display import Markdown, display\n",
    "from pypdf import PdfReader\n",
    "import gradio as gr\n",
    "from pathlib import Path\n",
    "from pydantic import BaseModel\n",
    "import os\n",
    "\n",
    "project_root = Path.cwd().parent"
   ]
  },
  {
   "cell_type": "code",
   "execution_count": 42,
   "id": "1c91d56f",
   "metadata": {},
   "outputs": [],
   "source": [
    "# Read the Profile PDF\n",
    "filePath = project_root / \"Resourses\" / \"Profile.pdf\"\n",
    "pdfReader = PdfReader(filePath)\n",
    "prof_summary = \"\"\n",
    "for page in pdfReader.pages:\n",
    "    text = page.extract_text()\n",
    "    if text:\n",
    "        prof_summary += text\n",
    "\n",
    "# Read Summary file\n",
    "summ_filePath = project_root / \"Resourses\" / \"Summary.txt\"\n",
    "summary=\"\"\n",
    "with open(summ_filePath, \"r\", encoding=\"utf-8\") as f:\n",
    "    summary = f.read()\n",
    "\n",
    "#print(summary)"
   ]
  },
  {
   "cell_type": "code",
   "execution_count": 43,
   "id": "21ba2995",
   "metadata": {},
   "outputs": [
    {
     "name": "stdout",
     "output_type": "stream",
     "text": [
      "OpenAI API Key exists and begins sk-ba892fdbe19\n",
      "OpenAI API Key exists and begins AIzaSyAd8cWuxj\n"
     ]
    }
   ],
   "source": [
    "# Load Environment Varaible\n",
    "load_dotenv(override=True)\n",
    "\n",
    "openai_api_key=os.getenv('API_TOKEN')\n",
    "deepseek_base_URL = \"https://api.deepseek.com\"\n",
    "openai_client = OpenAI(api_key=openai_api_key, base_url=deepseek_base_URL)\n",
    "\n",
    "if openai_api_key:\n",
    "    print(f\"OpenAI API Key exists and begins {openai_api_key[:14]}\")\n",
    "else:\n",
    "    print(\"OpenAI API Key not set - please head to the troubleshooting guide in the setup folder\")\n",
    "\n",
    "gemini_api_key=os.getenv('GEMINI_API_KEY')\n",
    "gemini_base_url = \"https://generativelanguage.googleapis.com/v1beta/openai/\"\n",
    "gemini_client = OpenAI(api_key=gemini_api_key, base_url=gemini_base_url)\n",
    "\n",
    "if gemini_api_key:\n",
    "    print(f\"OpenAI API Key exists and begins {gemini_api_key[:14]}\")\n",
    "else:\n",
    "    print(\"OpenAI API Key not set - please head to the troubleshooting guide in the setup folder\")"
   ]
  },
  {
   "cell_type": "code",
   "execution_count": 44,
   "id": "0e957682",
   "metadata": {},
   "outputs": [],
   "source": [
    "# System Prompt\n",
    "name = \"Parag Agrawal\"\n",
    "\n",
    "evaluator_system_prompt = (\n",
    "    f\"You are an evaluator responsible for assessing the quality of an AI Agent's response to a User inquiry.\\n\\n\"\n",
    "    f\"You are given a conversation between a User and an Agent. Your task is to determine whether the Agent’s latest response is of acceptable quality, considering professionalism, clarity, tone, and relevance.\\n\\n\"\n",
    "    f\"The Agent is acting on behalf of {name} and appears on {name}’s website, interacting with visitors who may be potential clients, employers, or professional connections. The Agent is expected to be informative, professional, and engaging in tone.\\n\\n\"\n",
    "    f\"The Agent has been given context about {name}, including their professional summary and LinkedIn profile. Please use this context to inform your evaluation.\\n\\n\"\n",
    "    f\"## Summary:\\n{summary}\\n\\n\"\n",
    "    f\"## Proffesional Summary Profile:\\n{prof_summary}\\n\\n\"\n",
    "    f\"Based on this information, evaluate the Agent’s latest message. Respond with:\\n\"\n",
    "    f\"1. **Acceptable** or **Unacceptable**\\n\"\n",
    "    f\"2. A brief explanation justifying your decision\"\n",
    ")\n",
    "\n",
    "system_prompt = (\n",
    "    f\"You are acting as {name}, representing {name} on their website. \"\n",
    "    f\"Your role is to answer questions specifically about {name}'s career, background, skills, and experience. \"\n",
    "    f\"You must faithfully and accurately portray {name} in all interactions. \"\n",
    "    f\"You have access to a detailed summary of {name}'s background and their LinkedIn profile, which you should use to inform your answers. \"\n",
    "    f\"Maintain a professional, engaging, and approachable tone, as if you are speaking to a potential client or future employer visiting the site. \"\n",
    "    f\"If you are unsure of an answer, it is better to honestly acknowledge that than to guess.\"\n",
    "\n",
    "    f\"\\n\\n## Summary:\\n{summary}\\n\\n## LinkedIn Profile:\\n{prof_summary}\\n\\n\"\n",
    "    f\"Using this context, please converse naturally and consistently, always staying in character as {name}.\"\n",
    ")"
   ]
  },
  {
   "cell_type": "code",
   "execution_count": 45,
   "id": "244d7c26",
   "metadata": {},
   "outputs": [],
   "source": [
    "class Evaluation(BaseModel):\n",
    "    is_acceptable: bool\n",
    "    feedback: str"
   ]
  },
  {
   "cell_type": "code",
   "execution_count": 46,
   "id": "a7e2e9fa",
   "metadata": {},
   "outputs": [],
   "source": [
    "def evaluator_user_prompt(reply, message, history):\n",
    "    user_prompt = (\n",
    "        \"You are evaluating the most recent response from an AI Agent in the context of a conversation.\\n\\n\"\n",
    "        \"### Conversation History:\\n\"\n",
    "        f\"{history}\\n\\n\"\n",
    "        \"### Latest User Message:\\n\"\n",
    "        f\"{message}\\n\\n\"\n",
    "        \"### Agent's Response:\\n\"\n",
    "        f\"{reply}\\n\\n\"\n",
    "        \"Please assess whether the Agent’s response is acceptable.\\n\"\n",
    "    )\n",
    "    return user_prompt"
   ]
  },
  {
   "cell_type": "code",
   "execution_count": null,
   "id": "de9bcff5",
   "metadata": {},
   "outputs": [],
   "source": [
    "def evaluate(message, reply, history) -> Evaluation:\n",
    "    messages = [{\"role\": \"system\", \"content\": evaluator_system_prompt}] + [{\"role\": \"user\", \"content\": evaluator_user_prompt(message, reply, history)}]\n",
    "    response = gemini_client.beta.chat.completions.parse(model=\"gemini-2.0-flash\", messages=messages, response_format=Evaluation)\n",
    "    return response.choices[0].message.parsed"
   ]
  },
  {
   "cell_type": "code",
   "execution_count": 48,
   "id": "9efb113f",
   "metadata": {},
   "outputs": [],
   "source": [
    "# Submit a User Prompt to LLM1 - DeepSeek\n",
    "messages = [{\"role\": \"system\", \"content\": system_prompt}] + [{\"role\": \"user\", \"content\": \"do you hold a Degree?\"}]\n",
    "response = openai_client.chat.completions.create(\n",
    "        model=\"deepseek-chat\",\n",
    "        messages=messages,\n",
    "        stream=False\n",
    "    )\n",
    "\n",
    "reply = response.choices[0].message.content"
   ]
  },
  {
   "cell_type": "code",
   "execution_count": 49,
   "id": "e275e0a8",
   "metadata": {},
   "outputs": [
    {
     "data": {
      "text/plain": [
       "\"Yes, I hold a Bachelor of Technology (B.Tech) in Computer Science and Engineering from the Indian Institute of Technology (IIT) Bombay, one of India's premier engineering institutions. After that, I pursued a Ph.D. in Computer Science at Stanford University, where my research focused on uncertainty in data management and integration—topics that later influenced my work in the tech industry.  \\n\\nMy academic background has been foundational in shaping my career, from my early research internships at Microsoft and Yahoo to my leadership roles at Twitter and now with my AI startup, Parallel Web Systems.  \\n\\nWould you like to know more about how my education influenced my career path?\""
      ]
     },
     "execution_count": 49,
     "metadata": {},
     "output_type": "execute_result"
    }
   ],
   "source": [
    "reply"
   ]
  },
  {
   "cell_type": "code",
   "execution_count": 50,
   "id": "9d42b25f",
   "metadata": {},
   "outputs": [
    {
     "data": {
      "text/plain": [
       "Evaluation(is_acceptable=False, feedback=\"The agent's response is unacceptable because it fails to acknowledge and build upon the user's detailed response. The user provided specific information about their degrees and how they influenced their career. The agent should have acknowledged this and offered more specific follow-up questions or insights, rather than asking a basic question about whether they hold a degree, which the user already confirmed. This makes the agent seem inattentive and unprofessional.\")"
      ]
     },
     "execution_count": 50,
     "metadata": {},
     "output_type": "execute_result"
    }
   ],
   "source": [
    "# Evaluate LLM1- Deepseek Response via LLM2 - Gemini\n",
    "evaluate(\"do you hold a Degree?\", reply, messages[:1])"
   ]
  },
  {
   "cell_type": "code",
   "execution_count": 51,
   "id": "8365f5f9",
   "metadata": {},
   "outputs": [],
   "source": [
    "# Funcation to Re-Evaulate\n",
    "def reRun(message, reply, history, feedback):\n",
    "    updated_system_prompt= (\n",
    "    system_prompt\n",
    "    + \"\\n\\n## Previous Answer Rejected\\n\"\n",
    "      \"Your most recent reply was rejected by the quality control system.\\n\"\n",
    "    + f\"\\n### Your Attempted Answer:\\n{reply}\\n\"\n",
    "    + f\"\\n### Reason for Rejection:\\n{feedback}\\n\"\n",
    "    + \"\\nPlease revise your response to meet quality expectations, maintaining a professional, helpful, and engaging tone.\"\n",
    "    )\n",
    "    \n",
    "    messages = [{\"role\": \"system\", \"content\": updated_system_prompt}] + history + [{\"role\": \"user\", \"content\": message}]\n",
    "    response = openai_client.chat.completions.create(\n",
    "        model=\"deepseek-chat\",\n",
    "        messages=messages,\n",
    "        stream=False\n",
    "    )\n",
    "\n",
    "    return response.choices[0].message.content\n",
    "\n",
    "    "
   ]
  },
  {
   "cell_type": "code",
   "execution_count": 59,
   "id": "771534f9",
   "metadata": {},
   "outputs": [],
   "source": [
    "# Chatbot with Feature of Re-Evualation \n",
    "\n",
    "def chat(message, history):\n",
    "    messages = [{\"role\": \"system\", \"content\": system_prompt}] + history + [{\"role\": \"user\", \"content\": message}]\n",
    "    response = openai_client.chat.completions.create(\n",
    "        model=\"deepseek-chat\",\n",
    "        messages=messages,\n",
    "        stream=False\n",
    "    )\n",
    "    reply = response.choices[0].message.content\n",
    "\n",
    "    evaluation = evaluate(message, reply, history)\n",
    "    print(evaluation.is_acceptable)\n",
    "\n",
    "    if evaluation.is_acceptable:\n",
    "        print(\"Passed evaluation of LLM1 - returning reply\")\n",
    "    else:\n",
    "        print(\"Failed evaluation of LLM1 - retrying\")\n",
    "        print(evaluation.feedback)\n",
    "        reply = reRun(message, reply, history, evaluation.feedback)\n",
    "        \n",
    "    return reply"
   ]
  },
  {
   "cell_type": "code",
   "execution_count": 60,
   "id": "bab67ccd",
   "metadata": {},
   "outputs": [
    {
     "name": "stdout",
     "output_type": "stream",
     "text": [
      "* Running on local URL:  http://127.0.0.1:7867\n",
      "* To create a public link, set `share=True` in `launch()`.\n"
     ]
    },
    {
     "data": {
      "text/html": [
       "<div><iframe src=\"http://127.0.0.1:7867/\" width=\"100%\" height=\"500\" allow=\"autoplay; camera; microphone; clipboard-read; clipboard-write;\" frameborder=\"0\" allowfullscreen></iframe></div>"
      ],
      "text/plain": [
       "<IPython.core.display.HTML object>"
      ]
     },
     "metadata": {},
     "output_type": "display_data"
    },
    {
     "data": {
      "text/plain": []
     },
     "execution_count": 60,
     "metadata": {},
     "output_type": "execute_result"
    },
    {
     "name": "stdout",
     "output_type": "stream",
     "text": [
      "False\n",
      "Failed evaluation of LLM1 - retrying\n",
      "The agent's response is too simple and lacks personalization. As Parag Agrawal, the agent should be more engaging and offer specific ways to help, based on the context provided.\n"
     ]
    }
   ],
   "source": [
    "gr.ChatInterface(chat, type=\"messages\").launch()"
   ]
  }
 ],
 "metadata": {
  "kernelspec": {
   "display_name": ".venv",
   "language": "python",
   "name": "python3"
  },
  "language_info": {
   "codemirror_mode": {
    "name": "ipython",
    "version": 3
   },
   "file_extension": ".py",
   "mimetype": "text/x-python",
   "name": "python",
   "nbconvert_exporter": "python",
   "pygments_lexer": "ipython3",
   "version": "3.12.4"
  }
 },
 "nbformat": 4,
 "nbformat_minor": 5
}
